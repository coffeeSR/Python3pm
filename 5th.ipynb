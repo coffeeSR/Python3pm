{
 "cells": [
  {
   "cell_type": "code",
   "execution_count": 1,
   "id": "0775e48e",
   "metadata": {},
   "outputs": [],
   "source": [
    "# range(5) 0,1,2,3,4\n",
    "# range(1,5) 1,2,3,4\n",
    "# range(1,5,2) 1,3\n"
   ]
  },
  {
   "cell_type": "code",
   "execution_count": 5,
   "id": "82df9608",
   "metadata": {},
   "outputs": [
    {
     "name": "stdout",
     "output_type": "stream",
     "text": [
      "0\n",
      "1\n",
      "2\n",
      "3\n",
      "4\n"
     ]
    }
   ],
   "source": [
    "for i in range(5):\n",
    "    print(i)"
   ]
  },
  {
   "cell_type": "code",
   "execution_count": 9,
   "id": "5e096d77",
   "metadata": {},
   "outputs": [
    {
     "name": "stdout",
     "output_type": "stream",
     "text": [
      "1\n",
      "2\n",
      "3\n",
      "4\n"
     ]
    }
   ],
   "source": [
    "for i in range(1,5):\n",
    "    print(i)"
   ]
  },
  {
   "cell_type": "code",
   "execution_count": 10,
   "id": "f652eb26",
   "metadata": {},
   "outputs": [
    {
     "name": "stdout",
     "output_type": "stream",
     "text": [
      "1\n",
      "3\n",
      "5\n",
      "7\n",
      "9\n"
     ]
    }
   ],
   "source": [
    "for i in range(1,10,2):\n",
    "    print(i)"
   ]
  },
  {
   "cell_type": "code",
   "execution_count": 12,
   "id": "f52525d7",
   "metadata": {},
   "outputs": [
    {
     "name": "stdout",
     "output_type": "stream",
     "text": [
      "0 HELLO WORLD\n",
      "1 HELLO WORLD\n",
      "2 HELLO WORLD\n",
      "3 HELLO WORLD\n",
      "4 HELLO WORLD\n"
     ]
    }
   ],
   "source": [
    "for i in range(5):\n",
    "    print(i,\"HELLO WORLD\")"
   ]
  },
  {
   "cell_type": "code",
   "execution_count": 13,
   "id": "9785831c",
   "metadata": {},
   "outputs": [
    {
     "name": "stdout",
     "output_type": "stream",
     "text": [
      "5\n",
      "10\n",
      "15\n",
      "20\n",
      "25\n",
      "30\n",
      "35\n",
      "40\n",
      "45\n",
      "50\n"
     ]
    }
   ],
   "source": [
    "for i in range(1,11):\n",
    "    print(5*i)"
   ]
  },
  {
   "cell_type": "code",
   "execution_count": 17,
   "id": "27d1e741",
   "metadata": {},
   "outputs": [
    {
     "name": "stdout",
     "output_type": "stream",
     "text": [
      "Enter the value of n= 2\n",
      "2 * 1 = 2\n",
      "2 * 2 = 4\n",
      "2 * 3 = 6\n",
      "2 * 4 = 8\n",
      "2 * 5 = 10\n",
      "2 * 6 = 12\n",
      "2 * 7 = 14\n",
      "2 * 8 = 16\n",
      "2 * 9 = 18\n",
      "2 * 10 = 20\n"
     ]
    }
   ],
   "source": [
    "n=int(input(\"Enter the value of n= \"))\n",
    "for i in range(1,11):\n",
    "    print(n,\"*\",i,\"=\",n*i)\n",
    "    "
   ]
  },
  {
   "cell_type": "code",
   "execution_count": 18,
   "id": "59367f18",
   "metadata": {},
   "outputs": [
    {
     "name": "stdout",
     "output_type": "stream",
     "text": [
      "Enter the value for x= 2\n",
      "2\n",
      "Enter the value for x= 5\n",
      "5\n"
     ]
    }
   ],
   "source": [
    "for i in range(2):\n",
    "    x=input(\"Enter the value for x= \")\n",
    "    print(x)"
   ]
  },
  {
   "cell_type": "code",
   "execution_count": 21,
   "id": "ab6ec2ef",
   "metadata": {},
   "outputs": [
    {
     "name": "stdout",
     "output_type": "stream",
     "text": [
      "Enter n= 2\n",
      "Enter x= 1\n",
      "Enter x= 23\n",
      "24\n"
     ]
    }
   ],
   "source": [
    "s=0\n",
    "n=int(input(\"Enter n= \"))\n",
    "for i in range(n):\n",
    "    x=int(input(\"Enter x= \"))\n",
    "    s=s+x\n",
    "    \n",
    "print(s)"
   ]
  },
  {
   "cell_type": "markdown",
   "id": "d1fc44ba",
   "metadata": {},
   "source": [
    "s=str()\n",
    "n=int(input(\"Enter n= \")"
   ]
  },
  {
   "cell_type": "code",
   "execution_count": 1,
   "id": "ee6f9892",
   "metadata": {},
   "outputs": [
    {
     "name": "stdout",
     "output_type": "stream",
     "text": [
      "Enter n = 2\n",
      "Enter name= shakti\n",
      "Enter phone= 98721489134\n",
      "Enter name= smile\n",
      "Enter phone= 92140942\n",
      "shakti, 98721489134\n",
      "smile, 92140942\n",
      "\n"
     ]
    }
   ],
   "source": [
    "s=str()\n",
    "n=int(input(\"Enter n = \"))\n",
    "for i in range(n):\n",
    "    name=input(\"Enter name= \")\n",
    "    phone=int(input(\"Enter phone= \"))\n",
    "    s=s+name+\",\"+\" \"+str(phone)+\"\\n\"\n",
    "print(s)\n"
   ]
  },
  {
   "cell_type": "code",
   "execution_count": 2,
   "id": "5e5ace28",
   "metadata": {},
   "outputs": [],
   "source": [
    "# 4!= 1*2*3*4\n"
   ]
  },
  {
   "cell_type": "code",
   "execution_count": 1,
   "id": "36428786",
   "metadata": {},
   "outputs": [
    {
     "name": "stdout",
     "output_type": "stream",
     "text": [
      "Enter n= 9\n",
      "1\n",
      "2\n",
      "6\n",
      "24\n",
      "120\n",
      "720\n",
      "5040\n",
      "40320\n",
      "362880\n"
     ]
    }
   ],
   "source": [
    "n=int(input(\"Enter n= \"))\n",
    "fac=1\n",
    "for i in range(1,n+1):\n",
    "    fac=fac*i\n",
    "    print(fac)"
   ]
  },
  {
   "cell_type": "code",
   "execution_count": 8,
   "id": "63ad0a40",
   "metadata": {},
   "outputs": [
    {
     "name": "stdout",
     "output_type": "stream",
     "text": [
      "Enter string= shakti\n",
      "s\n",
      "h\n",
      "a\n",
      "k\n",
      "t\n",
      "i\n"
     ]
    }
   ],
   "source": [
    "a=input(\"Enter string= \")\n",
    "for i in a:\n",
    "    print(str(i))"
   ]
  },
  {
   "cell_type": "code",
   "execution_count": 10,
   "id": "4b97e1ca",
   "metadata": {},
   "outputs": [
    {
     "name": "stdout",
     "output_type": "stream",
     "text": [
      "P Y T H "
     ]
    }
   ],
   "source": [
    "a=\"PYTHON\"\n",
    "for i in range(4):\n",
    "    print(a[i],end = \" \")\n",
    "    "
   ]
  },
  {
   "cell_type": "code",
   "execution_count": 16,
   "id": "095cc158",
   "metadata": {},
   "outputs": [
    {
     "name": "stdout",
     "output_type": "stream",
     "text": [
      "Enter string = shakti\n",
      "6\n",
      "shakti"
     ]
    }
   ],
   "source": [
    "a=input(\"Enter string = \")\n",
    "l=len(a)\n",
    "print(l)\n",
    "for i in range(l):\n",
    "    print(a[i],end = \"\")"
   ]
  },
  {
   "cell_type": "code",
   "execution_count": null,
   "id": "4404335b",
   "metadata": {},
   "outputs": [],
   "source": []
  }
 ],
 "metadata": {
  "kernelspec": {
   "display_name": "Python 3 (ipykernel)",
   "language": "python",
   "name": "python3"
  },
  "language_info": {
   "codemirror_mode": {
    "name": "ipython",
    "version": 3
   },
   "file_extension": ".py",
   "mimetype": "text/x-python",
   "name": "python",
   "nbconvert_exporter": "python",
   "pygments_lexer": "ipython3",
   "version": "3.9.12"
  }
 },
 "nbformat": 4,
 "nbformat_minor": 5
}
