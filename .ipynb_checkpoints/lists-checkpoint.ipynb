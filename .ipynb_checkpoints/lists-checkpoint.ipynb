{
 "cells": [
  {
   "cell_type": "code",
   "execution_count": 1,
   "id": "0b7e979d",
   "metadata": {},
   "outputs": [],
   "source": [
    "#Python Collection\n",
    "#list\n",
    "#tuple\n",
    "#dictionary\n",
    "#set"
   ]
  },
  {
   "cell_type": "code",
   "execution_count": 4,
   "id": "d43262e2",
   "metadata": {},
   "outputs": [],
   "source": [
    "#list\n",
    "#-Indexed\n",
    "#-ordered\n",
    "#-multiple values\n",
    "#-mutable"
   ]
  },
  {
   "cell_type": "code",
   "execution_count": 5,
   "id": "b72d066b",
   "metadata": {},
   "outputs": [
    {
     "name": "stdout",
     "output_type": "stream",
     "text": [
      "['Apple', 'Ball', 'Cat'] [1, 2, 3, 4, 5, 6, 7] []\n",
      "<class 'list'>\n",
      "<class 'list'>\n",
      "<class 'list'>\n"
     ]
    }
   ],
   "source": [
    "a= [\"Apple\",\"Ball\",\"Cat\"]\n",
    "b= [1,2,3,4,5,6,7]\n",
    "# c= list()\n",
    "c=[]\n",
    "print(a,b,c)\n",
    "print(type(a))\n",
    "print(type(b))\n",
    "print(type(c))"
   ]
  },
  {
   "cell_type": "code",
   "execution_count": 7,
   "id": "9307e5cf",
   "metadata": {},
   "outputs": [
    {
     "name": "stdout",
     "output_type": "stream",
     "text": [
      "Apple\n",
      "['Apple', 'Ball', 'Cat']\n"
     ]
    }
   ],
   "source": [
    "a= [\"Apple\",\"Ball\",\"Cat\",\"Fish\"]\n",
    "print(a[0])\n",
    "print(a[0:3])\n"
   ]
  },
  {
   "cell_type": "code",
   "execution_count": 8,
   "id": "60d86800",
   "metadata": {},
   "outputs": [
    {
     "name": "stdout",
     "output_type": "stream",
     "text": [
      "['H', 'E', 'L', 'L', 'O', ' ', 'W', 'O', 'R', 'L', 'D']\n"
     ]
    }
   ],
   "source": [
    "a=\"HELLO WORLD\"\n",
    "print(list(a))"
   ]
  },
  {
   "cell_type": "code",
   "execution_count": 13,
   "id": "32f37b3e",
   "metadata": {},
   "outputs": [
    {
     "name": "stdout",
     "output_type": "stream",
     "text": [
      "['Apple', 'Ball', 1, 2, 3, 4, 5]\n"
     ]
    }
   ],
   "source": [
    "a=[\"Apple\",\"Ball\"]\n",
    "b=[1,2,3,4,5]\n",
    "c=a+b\n",
    "print(c)"
   ]
  },
  {
   "cell_type": "code",
   "execution_count": 14,
   "id": "8fea26a1",
   "metadata": {},
   "outputs": [
    {
     "name": "stdout",
     "output_type": "stream",
     "text": [
      "['Apple', 'Ball', 'Apple', 'Ball']\n"
     ]
    }
   ],
   "source": [
    "a=[\"Apple\",\"Ball\"]\n",
    "print(a*2)"
   ]
  },
  {
   "cell_type": "code",
   "execution_count": 18,
   "id": "a5793e2e",
   "metadata": {},
   "outputs": [
    {
     "name": "stdout",
     "output_type": "stream",
     "text": [
      "['APPLE', 'Ball', 'Cat', 'Fish']\n"
     ]
    }
   ],
   "source": [
    "#UPDATE\n",
    "a= [\"Apple\",\"Ball\",\"Cat\",\"Fish\"]\n",
    "a[0]=\"APPLE\"\n",
    "print(a)"
   ]
  },
  {
   "cell_type": "code",
   "execution_count": 24,
   "id": "02cbee3f",
   "metadata": {},
   "outputs": [
    {
     "data": {
      "text/plain": [
       "['Apple', 'Ball', 'Cat']"
      ]
     },
     "execution_count": 24,
     "metadata": {},
     "output_type": "execute_result"
    }
   ],
   "source": [
    "# append() insert() extend() \n",
    "#append-->add at last\n",
    "a=[]\n",
    "a.append(\"Apple\")\n",
    "a.append(\"Ball\")\n",
    "a.append(\"Cat\")\n",
    "a"
   ]
  },
  {
   "cell_type": "code",
   "execution_count": 27,
   "id": "a817a289",
   "metadata": {},
   "outputs": [
    {
     "data": {
      "text/plain": [
       "['Apple', 'Ball', 'Cat', 'Dog', 'Fish']"
      ]
     },
     "execution_count": 27,
     "metadata": {},
     "output_type": "execute_result"
    }
   ],
   "source": [
    "#add--> add at any specific index\n",
    "a= [\"Apple\",\"Ball\",\"Cat\",\"Fish\"]\n",
    "a.insert(3,\"Dog\")\n",
    "a"
   ]
  },
  {
   "cell_type": "code",
   "execution_count": 28,
   "id": "5304409c",
   "metadata": {},
   "outputs": [
    {
     "data": {
      "text/plain": [
       "['Apple', 'Ball', 'Cat', 'Fish', 1, 2, 3, 4, 5, 6, 7]"
      ]
     },
     "execution_count": 28,
     "metadata": {},
     "output_type": "execute_result"
    }
   ],
   "source": [
    "#extend\n",
    "a= [\"Apple\",\"Ball\",\"Cat\",\"Fish\"]\n",
    "b= [1,2,3,4,5,6,7]\n",
    "a.extend(b)\n",
    "a"
   ]
  },
  {
   "cell_type": "code",
   "execution_count": 30,
   "id": "4c5866c6",
   "metadata": {},
   "outputs": [
    {
     "data": {
      "text/plain": [
       "['Apple', 'Ball', 4, 5, 'Cat', 'Fish']"
      ]
     },
     "execution_count": 30,
     "metadata": {},
     "output_type": "execute_result"
    }
   ],
   "source": [
    "a= [\"Apple\",\"Ball\",\"Cat\",\"Fish\"]\n",
    "b= [1,2,3,4,5,6,7]\n",
    "c=a[0:2]+b[3:5]+a[2:]\n",
    "c"
   ]
  },
  {
   "cell_type": "code",
   "execution_count": 8,
   "id": "9b47c7f0",
   "metadata": {},
   "outputs": [
    {
     "name": "stdout",
     "output_type": "stream",
     "text": [
      "Enter the value of n= 4\n",
      "Enter the value of x= 12\n",
      "Enter the value of x= 23\n",
      "Enter the value of x= 4\n",
      "Enter the value of x= 4\n",
      "[12, 23, 4, 4]\n"
     ]
    }
   ],
   "source": [
    "l=[]\n",
    "n=int(input(\"Enter the value of n= \"))\n",
    "for i in range(n):\n",
    "    x=int(input(\"Enter the value of x= \"))\n",
    "    l.append(x)\n",
    "print(l)"
   ]
  },
  {
   "cell_type": "code",
   "execution_count": 9,
   "id": "31c84d7c",
   "metadata": {},
   "outputs": [
    {
     "name": "stdout",
     "output_type": "stream",
     "text": [
      "Enter max value=  23\n",
      "Enter min value=  4\n",
      "Enter sum=  43\n",
      "[4, 4, 12, 23]\n",
      "[23, 12, 4, 4]\n"
     ]
    }
   ],
   "source": [
    "\n",
    "print(\"Enter max value= \",max(l))\n",
    "print(\"Enter min value= \",min(l))\n",
    "print(\"Enter sum= \",sum(l))\n",
    "l.sort()\n",
    "print(l)\n",
    "l.reverse()\n",
    "print(l)"
   ]
  },
  {
   "cell_type": "code",
   "execution_count": 11,
   "id": "d92a0cb5",
   "metadata": {},
   "outputs": [
    {
     "name": "stdout",
     "output_type": "stream",
     "text": [
      "['Apple', 'Fish', 'Zebra', 'ant', 'coat']\n"
     ]
    }
   ],
   "source": [
    "#sort()-->>sort alphabetical order and upper case and lower case\n",
    "a=[\"Apple\",\"Zebra\",\"ant\",\"coat\",\"Fish\"]\n",
    "a.sort()\n",
    "print(a)\n"
   ]
  },
  {
   "cell_type": "code",
   "execution_count": 12,
   "id": "d53098a4",
   "metadata": {},
   "outputs": [
    {
     "name": "stdout",
     "output_type": "stream",
     "text": [
      "Apple\n",
      "Zebra\n",
      "ant\n",
      "coat\n",
      "Fish\n"
     ]
    }
   ],
   "source": [
    "a=[\"Apple\",\"Zebra\",\"ant\",\"coat\",\"Fish\"]\n",
    "for i in a:\n",
    "    print(i)"
   ]
  },
  {
   "cell_type": "code",
   "execution_count": 13,
   "id": "6bb6c182",
   "metadata": {},
   "outputs": [
    {
     "name": "stdout",
     "output_type": "stream",
     "text": [
      "Zebra\n",
      "ant\n",
      "coat\n",
      "Fish\n"
     ]
    }
   ],
   "source": [
    "a=[\"Apple\",\"Zebra\",\"ant\",\"coat\",\"Fish\"]\n",
    "for i in a:\n",
    "    if i!=\"Apple\":\n",
    "        print(i)"
   ]
  },
  {
   "cell_type": "code",
   "execution_count": 16,
   "id": "1ac810f5",
   "metadata": {},
   "outputs": [
    {
     "name": "stdout",
     "output_type": "stream",
     "text": [
      "YES 2\n"
     ]
    }
   ],
   "source": [
    "a=[\"Apple\",\"Zebra\",\"ant\",\"Apple\",\"coat\",\"Fish\"]\n",
    "if \"Apple\" in a:\n",
    "    print(\"YES\",a.count(\"Apple\"))\n",
    "else:\n",
    "    print(\"NO\")"
   ]
  },
  {
   "cell_type": "code",
   "execution_count": 20,
   "id": "1e64ef38",
   "metadata": {},
   "outputs": [
    {
     "name": "stdout",
     "output_type": "stream",
     "text": [
      "['Zebra', 'ant', 'Apple', 'coat', 'Fish']\n"
     ]
    }
   ],
   "source": [
    "#del pop() remove()\n",
    "a=[\"Apple\",\"Zebra\",\"ant\",\"Apple\",\"coat\",\"Fish\"]\n",
    "del a[0]\n",
    "print(a)"
   ]
  },
  {
   "cell_type": "code",
   "execution_count": 26,
   "id": "267a1e0f",
   "metadata": {},
   "outputs": [
    {
     "name": "stdout",
     "output_type": "stream",
     "text": [
      "['Apple', 'ant', 'Apple', 'coat', 'Fish']\n",
      "Zebra\n"
     ]
    }
   ],
   "source": [
    "a=[\"Apple\",\"Zebra\",\"ant\",\"Apple\",\"coat\",\"Fish\"]\n",
    "b=a.pop(1)\n",
    "print(a)\n",
    "print(b)"
   ]
  },
  {
   "cell_type": "code",
   "execution_count": 31,
   "id": "7b2071c5",
   "metadata": {},
   "outputs": [
    {
     "name": "stdout",
     "output_type": "stream",
     "text": [
      "2\n"
     ]
    }
   ],
   "source": [
    "a=[\"Apple\",\"Zebra\",\"ant\",\"Apple\",\"coat\",\"Fish\"]\n",
    "b=a.index(\"ant\")\n",
    "print(b)"
   ]
  },
  {
   "cell_type": "code",
   "execution_count": 33,
   "id": "17b75a4d",
   "metadata": {},
   "outputs": [
    {
     "name": "stdout",
     "output_type": "stream",
     "text": [
      "['Apple', 'Zebra', 'Apple', 'coat', 'Fish']\n"
     ]
    }
   ],
   "source": [
    "a=[\"Apple\",\"Zebra\",\"ant\",\"Apple\",\"coat\",\"Fish\"]\n",
    "if \n",
    "a.remove(\"ant\")\n",
    "print(a)"
   ]
  },
  {
   "cell_type": "code",
   "execution_count": null,
   "id": "f74c0e82",
   "metadata": {},
   "outputs": [],
   "source": [
    "#WAP to detect index of multiple values\n",
    "#WAP to remove duplicate values"
   ]
  }
 ],
 "metadata": {
  "kernelspec": {
   "display_name": "Python 3 (ipykernel)",
   "language": "python",
   "name": "python3"
  },
  "language_info": {
   "codemirror_mode": {
    "name": "ipython",
    "version": 3
   },
   "file_extension": ".py",
   "mimetype": "text/x-python",
   "name": "python",
   "nbconvert_exporter": "python",
   "pygments_lexer": "ipython3",
   "version": "3.9.12"
  }
 },
 "nbformat": 4,
 "nbformat_minor": 5
}
