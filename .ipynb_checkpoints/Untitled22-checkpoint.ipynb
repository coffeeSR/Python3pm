{
 "cells": [
  {
   "cell_type": "code",
   "execution_count": 1,
   "id": "642c4258",
   "metadata": {},
   "outputs": [
    {
     "name": "stdout",
     "output_type": "stream",
     "text": [
      "Enter name=Shakti\n",
      "Enter age=21\n",
      "Enter add=Lalitpur\n",
      "Enter phone=9818504363\n",
      "Hello world I am Shakti. I am 21, I am from Lalitpur. My contact no. is 9818504363\n"
     ]
    }
   ],
   "source": [
    "class A:\n",
    "    def __init__(self,add,phone):\n",
    "        self._add=add\n",
    "        self.__phone=phone\n",
    "    def my_phone(self):\n",
    "        return self.__phone\n",
    "        \n",
    "class B:\n",
    "    def __init__(self,age):\n",
    "        self._age=age\n",
    "        \n",
    "class C(A,B):\n",
    "    def __init__(self,name,age,add,phone):\n",
    "        self.__name=name\n",
    "        B.__init__(self,age)\n",
    "        A.__init__(self,add,phone)\n",
    "        \n",
    "        \n",
    "    def info(self):\n",
    "        print(f'''Hello world I am {self.__name}. I am {self._age}, I am from {self._add}. My contact no. is {super().my_phone()}''')\n",
    "        \n",
    "name=input(\"Enter name=\")        \n",
    "age=int(input(\"Enter age=\"))\n",
    "add=input(\"Enter add=\")\n",
    "phone=int(input(\"Enter phone=\"))\n",
    "\n",
    "obj=C(name,age,add,phone)\n",
    "obj.info()"
   ]
  },
  {
   "cell_type": "code",
   "execution_count": null,
   "id": "ca86e4ce",
   "metadata": {},
   "outputs": [],
   "source": []
  }
 ],
 "metadata": {
  "kernelspec": {
   "display_name": "Python 3 (ipykernel)",
   "language": "python",
   "name": "python3"
  },
  "language_info": {
   "codemirror_mode": {
    "name": "ipython",
    "version": 3
   },
   "file_extension": ".py",
   "mimetype": "text/x-python",
   "name": "python",
   "nbconvert_exporter": "python",
   "pygments_lexer": "ipython3",
   "version": "3.9.12"
  }
 },
 "nbformat": 4,
 "nbformat_minor": 5
}
