{
 "cells": [
  {
   "cell_type": "code",
   "execution_count": 1,
   "id": "e49abef7",
   "metadata": {},
   "outputs": [
    {
     "name": "stdout",
     "output_type": "stream",
     "text": [
      "Collecting mysql-connector\n",
      "  Downloading mysql-connector-2.2.9.tar.gz (11.9 MB)\n",
      "Building wheels for collected packages: mysql-connector\n",
      "  Building wheel for mysql-connector (setup.py): started\n",
      "  Building wheel for mysql-connector (setup.py): finished with status 'done'\n",
      "  Created wheel for mysql-connector: filename=mysql_connector-2.2.9-cp39-cp39-win_amd64.whl size=247961 sha256=be431606353e9046a540d9ceb4b065999947e289d388f5cf3cb5d3c35ec7cc23\n",
      "  Stored in directory: c:\\users\\mesad\\appdata\\local\\pip\\cache\\wheels\\7b\\14\\39\\5aad423666e827dfe9a1fbcd111ac17171e7c9865d570780ce\n",
      "Successfully built mysql-connector\n",
      "Installing collected packages: mysql-connector\n",
      "Successfully installed mysql-connector-2.2.9\n"
     ]
    }
   ],
   "source": [
    "!pip install mysql-connector"
   ]
  },
  {
   "cell_type": "code",
   "execution_count": 6,
   "id": "0dd359c5",
   "metadata": {},
   "outputs": [],
   "source": [
    "import mysql.connector      #importing database\n",
    "database=mysql.connector.connect(\n",
    "    host=\"localhost\",\n",
    "    user=\"root\",\n",
    "    password=\"\",\n",
    "    database=\"python\"\n",
    ")\n",
    "db=database.cursor()"
   ]
  },
  {
   "cell_type": "code",
   "execution_count": 7,
   "id": "79ed9dca",
   "metadata": {},
   "outputs": [
    {
     "name": "stdout",
     "output_type": "stream",
     "text": [
      "(1, 65, 45, 76, 56, 43, 367, 67.0, 'B', 'Shakti')\n",
      "(2, 65, 87, 67, 65, 87, 380, 78.0, 'A', 'Smile')\n",
      "(3, 56, 67, 54, 76, 65, 302, 56.0, 'C', 'Sushant')\n",
      "(4, 65, 56, 67, 78, 65, 300, 60.0, 'B', 'Ram')\n"
     ]
    }
   ],
   "source": [
    "#selecting data from table\n",
    "db.execute(\"SELECT*FROM student\")\n",
    "result=db.fetchall()\n",
    "for x in result:\n",
    "    print(x)"
   ]
  },
  {
   "cell_type": "code",
   "execution_count": 8,
   "id": "1564a643",
   "metadata": {},
   "outputs": [
    {
     "name": "stdout",
     "output_type": "stream",
     "text": [
      "(1, 'Shakti', 367)\n",
      "(2, 'Smile', 380)\n",
      "(3, 'Sushant', 302)\n",
      "(4, 'Ram', 300)\n"
     ]
    }
   ],
   "source": [
    "db.execute(\"SELECT sn,name, total FROM student\")\n",
    "result=db.fetchall()\n",
    "for x in result:\n",
    "    print(x)\n"
   ]
  },
  {
   "cell_type": "code",
   "execution_count": 9,
   "id": "f280b41b",
   "metadata": {},
   "outputs": [],
   "source": [
    "#Inserting data\n",
    "sql=f\"INSERT INTO student(SN, Physics, Chemistry, Maths, English, Nepali, Total, Percentage, Grade, Name) VALUES(5,65,56,67,78,65,300,60,'B','Smol')\"\n",
    "db.execute(sql)\n",
    "database.commit()"
   ]
  },
  {
   "cell_type": "code",
   "execution_count": 19,
   "id": "d15ca14f",
   "metadata": {},
   "outputs": [
    {
     "name": "stdout",
     "output_type": "stream",
     "text": [
      "Enter n=3\n",
      "Enter name=Saurabh\n",
      "Enter physics=87\n",
      "Enter chemistry=67\n",
      "Enter math=78\n",
      "Enter english=98\n",
      "Enter nepali=78\n",
      "Enter name=Pravaya\n",
      "Enter physics=65\n",
      "Enter chemistry=67\n",
      "Enter math=78\n",
      "Enter english=76\n",
      "Enter nepali=56\n",
      "Enter name=Sushant\n",
      "Enter physics=76\n",
      "Enter chemistry=78\n",
      "Enter math=76\n",
      "Enter english=65\n",
      "Enter nepali=54\n"
     ]
    }
   ],
   "source": [
    "n=int(input(\"Enter n=\"))\n",
    "for i in range(n):\n",
    "    name=input(\"Enter name=\")\n",
    "    physics=int(input(\"Enter physics=\"))\n",
    "    chemistry=int(input(\"Enter chemistry=\"))\n",
    "    maths=int(input(\"Enter math=\"))\n",
    "    english=int(input(\"Enter english=\"))\n",
    "    nepali=int(input(\"Enter nepali=\"))\n",
    "    total=sum([physics,chemistry,maths,english,nepali])\n",
    "    per=total/5\n",
    "    if per>=80:\n",
    "        grade='A'\n",
    "    elif per>=60:\n",
    "        grade='B'\n",
    "    elif per>=45:\n",
    "        grade='C'\n",
    "    else:\n",
    "        grade='F'\n",
    "    sql=f\"INSERT INTO student(name,physics,chemistry,maths,english,nepali,total,percentage,grade) VALUES('{name}',{physics},{chemistry},{maths},{english},{nepali},{total},{per},'{grade}')\"\n",
    "    db.execute(sql)\n",
    "    database.commit()\n"
   ]
  },
  {
   "cell_type": "code",
   "execution_count": 17,
   "id": "9359c59e",
   "metadata": {},
   "outputs": [],
   "source": [
    "#delete\n",
    "sql=\"DELETE FROM student WHERE Sn=4\"\n",
    "db.execute(sql)\n",
    "database.commit()"
   ]
  },
  {
   "cell_type": "code",
   "execution_count": 21,
   "id": "79bc70f5",
   "metadata": {},
   "outputs": [],
   "source": [
    "#update\n",
    "sql=\"UPDATE student SET Name='Smol Smile' WHERE Name='Smol'\"\n",
    "db.execute(sql)\n",
    "database.commit()"
   ]
  },
  {
   "cell_type": "code",
   "execution_count": null,
   "id": "9ec84e54",
   "metadata": {},
   "outputs": [],
   "source": []
  }
 ],
 "metadata": {
  "kernelspec": {
   "display_name": "Python 3 (ipykernel)",
   "language": "python",
   "name": "python3"
  },
  "language_info": {
   "codemirror_mode": {
    "name": "ipython",
    "version": 3
   },
   "file_extension": ".py",
   "mimetype": "text/x-python",
   "name": "python",
   "nbconvert_exporter": "python",
   "pygments_lexer": "ipython3",
   "version": "3.9.12"
  }
 },
 "nbformat": 4,
 "nbformat_minor": 5
}
