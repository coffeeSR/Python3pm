{
 "cells": [
  {
   "cell_type": "code",
   "execution_count": 1,
   "id": "c7839c4c",
   "metadata": {},
   "outputs": [
    {
     "data": {
      "text/plain": [
       "[{'name': 'Shakti', 'age': '21', 'address': 'Lalitpur'},\n",
       " {'name': 'Smile', 'age': '20', 'address': 'Butwal'},\n",
       " {'name': 'no one', 'age': '100', 'address': 'Nowhere'}]"
      ]
     },
     "execution_count": 1,
     "metadata": {},
     "output_type": "execute_result"
    }
   ],
   "source": [
    "#dict inside list\n",
    "l=[{'name':'Shakti','age':'21','address':'Lalitpur'},\n",
    "   {'name':'Smile','age':'20','address':'Butwal'},\n",
    "   {'name':'no one','age':'100','address':'Nowhere'}]\n",
    "l\n"
   ]
  },
  {
   "cell_type": "code",
   "execution_count": 2,
   "id": "d4859c3d",
   "metadata": {},
   "outputs": [
    {
     "name": "stdout",
     "output_type": "stream",
     "text": [
      "Enter n=2\n",
      "Enter name: Shakto\n",
      "Enter age: 21\n",
      "Enter address: lalitpur\n",
      "Enter name: Smile\n",
      "Enter age: 20\n",
      "Enter address: Butwal\n",
      "[{'name': 'Shakto', 'age': 21, 'add': 'lalitpur'}, {'name': 'Smile', 'age': 20, 'add': 'Butwal'}]\n"
     ]
    }
   ],
   "source": [
    "data=[]\n",
    "n=int(input(\"Enter n=\"))\n",
    "for i in range(n):\n",
    "    name=input(\"Enter name: \")\n",
    "    age=int(input(\"Enter age: \"))\n",
    "    add=input(\"Enter address: \")\n",
    "    info={'name':name, 'age':age,'add':add}\n",
    "    data.append(info)\n",
    "print(data)"
   ]
  },
  {
   "cell_type": "code",
   "execution_count": 3,
   "id": "5a3038e1",
   "metadata": {},
   "outputs": [
    {
     "data": {
      "text/plain": [
       "[{'name': 'Shakti', 'age': 21, 'add': 'Lalitpur'},\n",
       " {'name': 'Smile', 'age': 20, 'add': 'Butwal'},\n",
       " {'name': 'Who', 'age': '493', 'add': 'you'}]"
      ]
     },
     "execution_count": 3,
     "metadata": {},
     "output_type": "execute_result"
    }
   ],
   "source": [
    "data=[{'name': 'Shakti', 'age': 21, 'add': 'Lalitpur'}, \n",
    "      {'name': 'Smile', 'age': 20, 'add': 'Butwal'}]\n",
    "data.append({'name':'Who','age':'493','add':'you'})\n",
    "data"
   ]
  },
  {
   "cell_type": "code",
   "execution_count": 4,
   "id": "b1bd4bf7",
   "metadata": {},
   "outputs": [
    {
     "name": "stdout",
     "output_type": "stream",
     "text": [
      "{'name': 'Shakti', 'age': 21, 'add': 'Lalitpur'}\n"
     ]
    }
   ],
   "source": [
    "print(data[0])"
   ]
  },
  {
   "cell_type": "code",
   "execution_count": 5,
   "id": "5ca06a68",
   "metadata": {},
   "outputs": [
    {
     "name": "stdout",
     "output_type": "stream",
     "text": [
      "Shakti\n"
     ]
    }
   ],
   "source": [
    "print(data[0]['name'])"
   ]
  },
  {
   "cell_type": "code",
   "execution_count": 7,
   "id": "890e3cfd",
   "metadata": {},
   "outputs": [
    {
     "data": {
      "text/plain": [
       "[{'name': 'Shakti', 'age': 21, 'add': 'Lalitpur'},\n",
       " {'name': 'Smile', 'age': 20, 'add': 'Butwal'},\n",
       " {'name': 'mf', 'age': '493', 'add': 'you'}]"
      ]
     },
     "execution_count": 7,
     "metadata": {},
     "output_type": "execute_result"
    }
   ],
   "source": [
    "data[2]['name']='mf'\n",
    "data\n"
   ]
  },
  {
   "cell_type": "code",
   "execution_count": 8,
   "id": "dd4c5bc9",
   "metadata": {},
   "outputs": [
    {
     "data": {
      "text/plain": [
       "[{'name': 'Shakti', 'age': 21, 'add': 'Lalitpur'},\n",
       " {'name': 'Smile', 'age': 20, 'add': 'Butwal'},\n",
       " {'age': '493', 'add': 'you'}]"
      ]
     },
     "execution_count": 8,
     "metadata": {},
     "output_type": "execute_result"
    }
   ],
   "source": [
    "del data[2]['name']\n",
    "data"
   ]
  },
  {
   "cell_type": "code",
   "execution_count": null,
   "id": "c85328fd",
   "metadata": {},
   "outputs": [],
   "source": [
    "#dict "
   ]
  }
 ],
 "metadata": {
  "kernelspec": {
   "display_name": "Python 3 (ipykernel)",
   "language": "python",
   "name": "python3"
  },
  "language_info": {
   "codemirror_mode": {
    "name": "ipython",
    "version": 3
   },
   "file_extension": ".py",
   "mimetype": "text/x-python",
   "name": "python",
   "nbconvert_exporter": "python",
   "pygments_lexer": "ipython3",
   "version": "3.9.12"
  }
 },
 "nbformat": 4,
 "nbformat_minor": 5
}
