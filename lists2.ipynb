{
 "cells": [
  {
   "cell_type": "code",
   "execution_count": 1,
   "id": "a3f4914e",
   "metadata": {},
   "outputs": [
    {
     "name": "stdout",
     "output_type": "stream",
     "text": [
      "[[1, 2, 3], [4, 5, 6], [7, 8, 9]]\n"
     ]
    }
   ],
   "source": [
    "#list inside list\n",
    "a=[[1,2,3],[4,5,6],[7,8,9]]\n",
    "print(a)"
   ]
  },
  {
   "cell_type": "code",
   "execution_count": 2,
   "id": "1525d666",
   "metadata": {},
   "outputs": [
    {
     "name": "stdout",
     "output_type": "stream",
     "text": [
      "<class 'list'>\n"
     ]
    }
   ],
   "source": [
    "print(type(a))"
   ]
  },
  {
   "cell_type": "code",
   "execution_count": 7,
   "id": "c3f863a7",
   "metadata": {},
   "outputs": [
    {
     "name": "stdout",
     "output_type": "stream",
     "text": [
      "1\n",
      "2\n",
      "3\n",
      "5\n",
      "6\n",
      "9\n"
     ]
    }
   ],
   "source": [
    "print(a[0][0])\n",
    "print(a[0][1])\n",
    "print(a[0][2])\n",
    "print(a[1][1])\n",
    "print(a[1][2])\n",
    "print(a[2][2])"
   ]
  },
  {
   "cell_type": "code",
   "execution_count": 8,
   "id": "fcc5152a",
   "metadata": {},
   "outputs": [
    {
     "data": {
      "text/plain": [
       "[['Ram', 34, 'Kathmandu'],\n",
       " ['Shyam', 56, 'Lalitpur'],\n",
       " ['Hari', 45, 'Bhaktapur']]"
      ]
     },
     "execution_count": 8,
     "metadata": {},
     "output_type": "execute_result"
    }
   ],
   "source": [
    "a=[[\"Ram\",34,\"Kathmandu\"],[\"Shyam\",56,\"Lalitpur\"],[\"Hari\",45,\"Bhaktapur\"]]\n",
    "a"
   ]
  },
  {
   "cell_type": "code",
   "execution_count": 1,
   "id": "f54fe0f1",
   "metadata": {},
   "outputs": [
    {
     "name": "stdout",
     "output_type": "stream",
     "text": [
      "Enter n= 3\n",
      "Enter name= Shakti\n",
      "Enter age= 21\n",
      "Enter address= Lalitpur\n",
      "Enter name= Smile\n",
      "Enter age= 20\n",
      "Enter address= Butwal\n",
      "Enter name= Third wheel\n",
      "Enter age= 0\n",
      "Enter address= idk\n",
      "[['Shakti', 21, 'Lalitpur'], ['Smile', 20, 'Butwal'], ['Third wheel', 0, 'idk']]\n"
     ]
    }
   ],
   "source": [
    "a=[]\n",
    "n=int(input(\"Enter n= \"))\n",
    "for i in range(n):\n",
    "    name = input(\"Enter name= \")\n",
    "    age= int(input(\"Enter age= \"))\n",
    "    add= input(\"Enter address= \")\n",
    "    i= [name, age, add]\n",
    "    a.append(i)\n",
    "print(a)"
   ]
  },
  {
   "cell_type": "code",
   "execution_count": 3,
   "id": "25310a30",
   "metadata": {},
   "outputs": [
    {
     "name": "stdout",
     "output_type": "stream",
     "text": [
      "[['Shakti', 21, 'Lalitpur'], ['Smile', 20, 'Butwal'], ['Drishya', 25, 'Bhaktapur']]\n"
     ]
    }
   ],
   "source": [
    "a=[['Shakti', 21, 'Lalitpur'], ['Smile', 20, 'Butwal'], ['Third wheel', 0, 'idk']]\n",
    "a[2]=['Drishya',25,'Bhaktapur']\n",
    "print(a)"
   ]
  },
  {
   "cell_type": "code",
   "execution_count": 5,
   "id": "31d42951",
   "metadata": {},
   "outputs": [
    {
     "name": "stdout",
     "output_type": "stream",
     "text": [
      "['Shakti', 21, 'Lalitpur']\n",
      "['Smile', 20, 'Butwal']\n",
      "['Drishya', 25, 'Bhaktapur']\n"
     ]
    }
   ],
   "source": [
    "a=[['Shakti', 21, 'Lalitpur'], ['Smile', 20, 'Butwal'], ['Drishya', 25, 'Bhaktapur']]\n",
    "for i in a:\n",
    "    print(i)"
   ]
  },
  {
   "cell_type": "code",
   "execution_count": 6,
   "id": "a612988c",
   "metadata": {},
   "outputs": [
    {
     "name": "stdout",
     "output_type": "stream",
     "text": [
      "Enter name= Smile\n",
      "['Smile', 20, 'Butwal']\n"
     ]
    }
   ],
   "source": [
    "a=[['Shakti', 21, 'Lalitpur'], ['Smile', 20, 'Butwal'], ['Drishya', 25, 'Bhaktapur']]\n",
    "search=input(\"Enter name= \")\n",
    "for i in a:\n",
    "    if search in i:\n",
    "        print(i)"
   ]
  },
  {
   "cell_type": "code",
   "execution_count": 11,
   "id": "117dc682",
   "metadata": {},
   "outputs": [
    {
     "name": "stdout",
     "output_type": "stream",
     "text": [
      "Enter name= Shakti\n",
      "['Shakti', 21, 'Lalitpur']\n",
      "['Shakti', 23, 'Kathmandu']\n",
      "There are 2 Shakti\n"
     ]
    }
   ],
   "source": [
    "a=[['Shakti', 21, 'Lalitpur'], ['Smile', 20, 'Butwal'], ['Drishya', 25, 'Bhaktapur'], ['Shakti', 23, 'Kathmandu']]\n",
    "search=input(\"Enter name= \")\n",
    "c=0\n",
    "for i in a:\n",
    "    if search in i:\n",
    "        c=c+1\n",
    "        print(i)\n",
    "        \n",
    "print(f\"There are {c}\",search)"
   ]
  },
  {
   "cell_type": "code",
   "execution_count": 1,
   "id": "7798e2d8",
   "metadata": {},
   "outputs": [
    {
     "name": "stdout",
     "output_type": "stream",
     "text": [
      "Enter value of n= 3\n",
      "Enter row= 3\n",
      "Enter column= 3\n",
      "Enter x= 1\n",
      "Enter x= 2\n",
      "Enter x= 3\n",
      "Enter x= 4\n",
      "Enter x= 5\n",
      "Enter x= 6\n",
      "Enter x= 7\n",
      "Enter x= 8\n",
      "Enter x= 9\n",
      "[[1, 2, 3], [4, 5, 6], [7, 8, 9]]\n"
     ]
    }
   ],
   "source": [
    "#WAP to create a list inside list with rows and columns\n",
    "l=[]\n",
    "n=int(input(\"Enter value of n= \"))\n",
    "r=int(input(\"Enter row= \"))\n",
    "c=int(input(\"Enter column= \"))\n",
    "for i in range(r):\n",
    "    y=[]\n",
    "    for j in range(c):\n",
    "        x=int(input(\"Enter x= \"))\n",
    "        y.append(x)\n",
    "    l.append(y)\n",
    "print(l)\n",
    "    "
   ]
  },
  {
   "cell_type": "code",
   "execution_count": 5,
   "id": "ed405207",
   "metadata": {},
   "outputs": [
    {
     "data": {
      "text/plain": [
       "[0, 1, 2, 3, 4]"
      ]
     },
     "execution_count": 5,
     "metadata": {},
     "output_type": "execute_result"
    }
   ],
   "source": [
    "a= [i for i in range(5)]\n",
    "a"
   ]
  },
  {
   "cell_type": "code",
   "execution_count": 12,
   "id": "4e804ba2",
   "metadata": {},
   "outputs": [
    {
     "data": {
      "text/plain": [
       "[1, 2, 3, 4, 5, 6, 7, 8, 9, 10, 11, 12, 13, 14, 15, 16, 17, 18, 19, 20]"
      ]
     },
     "execution_count": 12,
     "metadata": {},
     "output_type": "execute_result"
    }
   ],
   "source": [
    "a= [i for i in range(1,21)]\n",
    "a"
   ]
  },
  {
   "cell_type": "code",
   "execution_count": 13,
   "id": "150328b4",
   "metadata": {},
   "outputs": [
    {
     "data": {
      "text/plain": [
       "[2, 4, 6, 8, 10, 12, 14, 16, 18, 20]"
      ]
     },
     "execution_count": 13,
     "metadata": {},
     "output_type": "execute_result"
    }
   ],
   "source": [
    "a= [i for i in range(1,21) if i%2==0]\n",
    "a\n"
   ]
  },
  {
   "cell_type": "code",
   "execution_count": 20,
   "id": "6f0b2ed2",
   "metadata": {},
   "outputs": [
    {
     "data": {
      "text/plain": [
       "['APPLE', 'BALL']"
      ]
     },
     "execution_count": 20,
     "metadata": {},
     "output_type": "execute_result"
    }
   ],
   "source": [
    "a=[\"APPLE\",\"BALL\",\"cat\",\"dog\"]\n",
    "b= [i for i in a if i.isupper()]\n",
    "b"
   ]
  },
  {
   "cell_type": "code",
   "execution_count": 4,
   "id": "871ddb66",
   "metadata": {},
   "outputs": [
    {
     "name": "stdout",
     "output_type": "stream",
     "text": [
      "Enter value for n= 2\n",
      "Enter product name= a\n",
      "Enter price= 10\n",
      "Enter quantity= 2\n",
      "Enter product name= b\n",
      "Enter price= 30\n",
      "Enter quantity= 3\n",
      "[['a', 10, 2, 20], ['b', 30, 3, 90]]\n"
     ]
    }
   ],
   "source": [
    "#WAP to create a billing system using list inside list\n",
    "n=int(input(\"Enter value for n= \"))\n",
    "l=[]\n",
    "for i in range(n):\n",
    "    product=input(\"Enter product name= \")\n",
    "    price=int(input(\"Enter price= \"))\n",
    "    quantity=int(input(\"Enter quantity= \"))\n",
    "    total=price*quantity\n",
    "    info=[product,price,quantity,total]\n",
    "    l.append(info)\n",
    "print(l)"
   ]
  },
  {
   "cell_type": "code",
   "execution_count": null,
   "id": "dd8a15d5",
   "metadata": {},
   "outputs": [],
   "source": []
  }
 ],
 "metadata": {
  "kernelspec": {
   "display_name": "Python 3 (ipykernel)",
   "language": "python",
   "name": "python3"
  },
  "language_info": {
   "codemirror_mode": {
    "name": "ipython",
    "version": 3
   },
   "file_extension": ".py",
   "mimetype": "text/x-python",
   "name": "python",
   "nbconvert_exporter": "python",
   "pygments_lexer": "ipython3",
   "version": "3.9.12"
  }
 },
 "nbformat": 4,
 "nbformat_minor": 5
}
