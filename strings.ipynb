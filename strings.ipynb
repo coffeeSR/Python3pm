{
 "cells": [
  {
   "cell_type": "code",
   "execution_count": 2,
   "id": "5b6948e9",
   "metadata": {},
   "outputs": [
    {
     "name": "stdout",
     "output_type": "stream",
     "text": [
      "<class 'str'>\n",
      "<class 'str'>\n",
      "<class 'str'>\n"
     ]
    }
   ],
   "source": [
    "a='Python'\n",
    "b=\"10\"\n",
    "c='''Python'''\n",
    "print(type(a))\n",
    "print(type(b))\n",
    "print(type(c))\n"
   ]
  },
  {
   "cell_type": "code",
   "execution_count": 4,
   "id": "4699cf88",
   "metadata": {},
   "outputs": [
    {
     "name": "stdout",
     "output_type": "stream",
     "text": [
      "Enter a=  abc\n",
      "abc\n"
     ]
    }
   ],
   "source": [
    "a=input(\"Enter a=  \")\n",
    "print(a)\n"
   ]
  },
  {
   "cell_type": "code",
   "execution_count": 1,
   "id": "f97a429f",
   "metadata": {},
   "outputs": [
    {
     "name": "stdout",
     "output_type": "stream",
     "text": [
      "Enter a= abc\n",
      "Enter b= def\n",
      "abcdef\n"
     ]
    }
   ],
   "source": [
    "a=input(\"Enter a= \")\n",
    "b=input(\"Enter b= \")\n",
    "c=a+b\n",
    "print(c)"
   ]
  },
  {
   "cell_type": "code",
   "execution_count": 8,
   "id": "932b84c1",
   "metadata": {},
   "outputs": [
    {
     "name": "stdout",
     "output_type": "stream",
     "text": [
      "a= bleh \n",
      "bleh bleh \n"
     ]
    }
   ],
   "source": [
    "a=input(\"a= \")\n",
    "print(a*2)"
   ]
  },
  {
   "cell_type": "code",
   "execution_count": 10,
   "id": "380da895",
   "metadata": {},
   "outputs": [
    {
     "name": "stdout",
     "output_type": "stream",
     "text": [
      "Hello World, I am Ram. I am from Kathmandu. I am 34.\n"
     ]
    }
   ],
   "source": [
    "#string formatting\n",
    "name= \"Ram\"\n",
    "age = 34\n",
    "add= \"Kathmandu\"\n",
    "info= f\"Hello World, I am {name}. I am from {add}. I am {age}.\"\n",
    "print(info)"
   ]
  },
  {
   "cell_type": "code",
   "execution_count": 4,
   "id": "d502e6be",
   "metadata": {},
   "outputs": [
    {
     "name": "stdout",
     "output_type": "stream",
     "text": [
      "Enter the value for n = 3\n",
      "Enter product name: Smile\n",
      "Enter price: 10\n",
      "Enter quantity: 1\n",
      "Enter product name: Smol\n",
      "Enter price: 5\n",
      "Enter quantity: 2\n",
      "Enter product name: Small\n",
      "Enter price: 10\n",
      "Enter quantity: 3\n",
      " Smile 10 1 10\n",
      "Smol 5 2 10\n",
      "Small 10 3 30\n",
      "\n"
     ]
    }
   ],
   "source": [
    "bill= \" \"\n",
    "n=int(input(\"Enter the value for n = \"))\n",
    "for i in range(n):\n",
    "    product= input(\"Enter product name: \")\n",
    "    price= int(input(\"Enter price: \"))\n",
    "    quantity= int(input(\"Enter quantity: \"))\n",
    "    total = price* quantity\n",
    "    info= f\"{product} {price} {quantity} {total}\\n\"\n",
    "    bill= bill + info\n",
    "print(bill)"
   ]
  },
  {
   "cell_type": "code",
   "execution_count": 10,
   "id": "05770ef0",
   "metadata": {},
   "outputs": [
    {
     "name": "stdout",
     "output_type": "stream",
     "text": [
      "Hello\n",
      " World I am Python\n"
     ]
    }
   ],
   "source": [
    "#Slicing\n",
    "a=\"Hello World I am Python\"\n",
    "b=a[0:5]\n",
    "c=a[5:]\n",
    "print(b)\n",
    "print(c)\n"
   ]
  },
  {
   "cell_type": "code",
   "execution_count": 15,
   "id": "c1cd8cf0",
   "metadata": {},
   "outputs": [
    {
     "data": {
      "text/plain": [
       "'Sat abadr'"
      ]
     },
     "execution_count": 15,
     "metadata": {},
     "output_type": "execute_result"
    }
   ],
   "source": [
    "a= \"Shakti Rajbhandari\"\n",
    "a[0:20:2]"
   ]
  },
  {
   "cell_type": "code",
   "execution_count": 17,
   "id": "9c65f8ef",
   "metadata": {},
   "outputs": [
    {
     "name": "stdout",
     "output_type": "stream",
     "text": [
      "itkahS\n"
     ]
    }
   ],
   "source": [
    "a=\"Shakti\"\n",
    "print(a[::-1])\n"
   ]
  },
  {
   "cell_type": "code",
   "execution_count": 26,
   "id": "99dd858b",
   "metadata": {},
   "outputs": [
    {
     "name": "stdout",
     "output_type": "stream",
     "text": [
      "Enter search = a\n",
      "YES\n",
      "7\n"
     ]
    }
   ],
   "source": [
    "a= \"Ram Shyam Hari Sita Gita Nabin Ram\"\n",
    "search= input(\"Enter search = \")\n",
    "if search in a:\n",
    "    print(\"YES\")\n",
    "    print(a.count(search))\n",
    "else:\n",
    "    print(\"NO\")"
   ]
  },
  {
   "cell_type": "code",
   "execution_count": 29,
   "id": "84e4cd93",
   "metadata": {},
   "outputs": [
    {
     "name": "stdout",
     "output_type": "stream",
     "text": [
      "Enter search= Ram\n",
      "YES\n",
      "2\n"
     ]
    }
   ],
   "source": [
    "a= \"Ram Shyam Hari Sita Gita Nabin Ram\".lower()\n",
    "search= input(\"Enter search= \").lower()\n",
    "if search in a:\n",
    "    print(\"YES\")\n",
    "    print(a.count(search))\n",
    "    \n"
   ]
  },
  {
   "cell_type": "code",
   "execution_count": 32,
   "id": "6ab2348d",
   "metadata": {},
   "outputs": [
    {
     "name": "stdout",
     "output_type": "stream",
     "text": [
      "ram Shyam Hari Sita Gita Nabin ram\n"
     ]
    }
   ],
   "source": [
    "a= \"Ram Shyam Hari Sita Gita Nabin Ram\"\n",
    "b=a.replace(\"Ram\",\"ram\")\n",
    "print(b)"
   ]
  },
  {
   "cell_type": "code",
   "execution_count": 33,
   "id": "7a85060c",
   "metadata": {},
   "outputs": [
    {
     "name": "stdout",
     "output_type": "stream",
     "text": [
      "['Ram', 'Shyam', 'Hari', 'Sita', 'Gita', 'Nabin', 'Ram']\n"
     ]
    }
   ],
   "source": [
    "a= \"Ram Shyam Hari Sita Gita Nabin Ram\"\n",
    "b=a.split()\n",
    "print(b)"
   ]
  },
  {
   "cell_type": "code",
   "execution_count": null,
   "id": "0387b1dc",
   "metadata": {},
   "outputs": [],
   "source": []
  }
 ],
 "metadata": {
  "kernelspec": {
   "display_name": "Python 3 (ipykernel)",
   "language": "python",
   "name": "python3"
  },
  "language_info": {
   "codemirror_mode": {
    "name": "ipython",
    "version": 3
   },
   "file_extension": ".py",
   "mimetype": "text/x-python",
   "name": "python",
   "nbconvert_exporter": "python",
   "pygments_lexer": "ipython3",
   "version": "3.9.12"
  }
 },
 "nbformat": 4,
 "nbformat_minor": 5
}
