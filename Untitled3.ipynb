{
 "cells": [
  {
   "cell_type": "code",
   "execution_count": 1,
   "id": "0406385e",
   "metadata": {},
   "outputs": [],
   "source": [
    "#if<condition>:\n",
    "#    <operations>\n",
    "#    elif<condition>:\n",
    "#        <operations>\n",
    "#...\n",
    "#else:\n",
    "#    <operations>"
   ]
  },
  {
   "cell_type": "code",
   "execution_count": 7,
   "id": "5ea7bb93",
   "metadata": {},
   "outputs": [
    {
     "name": "stdout",
     "output_type": "stream",
     "text": [
      "Enter a = 100\n",
      "a is greater\n"
     ]
    }
   ],
   "source": [
    "n=10\n",
    "a=int(input(\"Enter a = \"))\n",
    "if a>n:\n",
    "    print(\"a is greater\")\n",
    "else:\n",
    "    print(\"a is smaller\")"
   ]
  },
  {
   "cell_type": "code",
   "execution_count": 12,
   "id": "5d68d953",
   "metadata": {},
   "outputs": [
    {
     "name": "stdout",
     "output_type": "stream",
     "text": [
      "Enter n = 10\n",
      "Enter a = 10\n",
      "a and n are equal\n"
     ]
    }
   ],
   "source": [
    "n=int(input(\"Enter n = \"))\n",
    "a=int(input(\"Enter a = \"))\n",
    "if a>n:\n",
    "    print(\"a is greater\")\n",
    "elif n>a:\n",
    "    print(\"a is smaller\")\n",
    "else:\n",
    "    print(\"a and n are equal\")"
   ]
  },
  {
   "cell_type": "code",
   "execution_count": 4,
   "id": "387be7fb",
   "metadata": {},
   "outputs": [
    {
     "name": "stdout",
     "output_type": "stream",
     "text": [
      "Enter the marks for physics: 69\n",
      "Enter the marks for chemistry: 69\n",
      "Enter the marks for math: 69\n",
      "Enter the marks for english: 69\n",
      "Enter the marks for nepali: 69\n",
      "Total=  345\n",
      "Percentage=  69.0\n",
      "Grade=  B\n"
     ]
    }
   ],
   "source": [
    "phy=int(input(\"Enter the marks for physics: \"))\n",
    "chem=int(input(\"Enter the marks for chemistry: \"))\n",
    "math=int(input(\"Enter the marks for math: \"))\n",
    "eng=int(input(\"Enter the marks for english: \"))\n",
    "nep=int(input(\"Enter the marks for nepali: \"))\n",
    "total= phy + chem +math + eng + nep\n",
    "percent= total/5\n",
    "if percent>=80:\n",
    "    grade=\"A\"\n",
    "elif percent>=60:\n",
    "    grade=\"B\"\n",
    "elif percent>=45:\n",
    "    grade=\"C\"\n",
    "else:\n",
    "    grade=\"F\"\n",
    "print(\"Total= \",total)\n",
    "print(\"Percentage= \",percent)\n",
    "print(\"Grade= \",grade)"
   ]
  },
  {
   "cell_type": "code",
   "execution_count": 19,
   "id": "ba48ea2f",
   "metadata": {},
   "outputs": [
    {
     "name": "stdout",
     "output_type": "stream",
     "text": [
      "Enter a = 0\n",
      "Enter b= 9\n",
      "Enter + - * / = /\n",
      "0.0\n"
     ]
    }
   ],
   "source": [
    "a=int(input(\"Enter a = \"))\n",
    "b=int(input(\"Enter b= \"))\n",
    "o=input(\"Enter + - * / = \")\n",
    "if o == \"+\":\n",
    "    print(a+b)\n",
    "elif o == \"-\":\n",
    "    print(a-b)\n",
    "elif o == \"*\":\n",
    "    print(a*b)\n",
    "elif o == \"/\" and b!=0:\n",
    "    print(a/b)\n",
    "elif o == \"/\" and b==0:\n",
    "    print(\"The value of b cannot be zero!\")\n",
    "else:\n",
    "    print(\"Invalid operator\")\n",
    "    "
   ]
  },
  {
   "cell_type": "code",
   "execution_count": 10,
   "id": "1f50680d",
   "metadata": {},
   "outputs": [],
   "source": [
    "#and - > &\n",
    "#1*0=0\n",
    "#0*1=0\n",
    "#0*0=0\n",
    "#1*1=1\n",
    "\n",
    "#or - > |\n",
    "#1+0=1\n",
    "#0+1=1\n",
    "#0+0=0\n",
    "#1+1=1"
   ]
  },
  {
   "cell_type": "code",
   "execution_count": 14,
   "id": "21ff4542",
   "metadata": {},
   "outputs": [
    {
     "data": {
      "text/plain": [
       "False"
      ]
     },
     "execution_count": 14,
     "metadata": {},
     "output_type": "execute_result"
    }
   ],
   "source": [
    "False & True"
   ]
  },
  {
   "cell_type": "code",
   "execution_count": null,
   "id": "53435c2b",
   "metadata": {},
   "outputs": [],
   "source": [
    "if<condition>:\n",
    "    if<condition>:\n",
    "        <operation>\n",
    "    elif<condition>:\n",
    "        <operation>:\n",
    "    else"
   ]
  }
 ],
 "metadata": {
  "kernelspec": {
   "display_name": "Python 3 (ipykernel)",
   "language": "python",
   "name": "python3"
  },
  "language_info": {
   "codemirror_mode": {
    "name": "ipython",
    "version": 3
   },
   "file_extension": ".py",
   "mimetype": "text/x-python",
   "name": "python",
   "nbconvert_exporter": "python",
   "pygments_lexer": "ipython3",
   "version": "3.9.12"
  }
 },
 "nbformat": 4,
 "nbformat_minor": 5
}
