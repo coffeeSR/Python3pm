{
 "cells": [
  {
   "cell_type": "code",
   "execution_count": 7,
   "id": "4cb15dd2",
   "metadata": {},
   "outputs": [],
   "source": [
    "#Inheritance"
   ]
  },
  {
   "cell_type": "code",
   "execution_count": 3,
   "id": "17b0bb14",
   "metadata": {},
   "outputs": [],
   "source": [
    "# class A:\n",
    "#     pass\n",
    "# class B(A):\n",
    "#     pass"
   ]
  },
  {
   "cell_type": "code",
   "execution_count": 8,
   "id": "24cc86bd",
   "metadata": {},
   "outputs": [
    {
     "name": "stdout",
     "output_type": "stream",
     "text": [
      "Hello world I am Ram. I am 34\n"
     ]
    }
   ],
   "source": [
    "class A:\n",
    "    def __init__(self):\n",
    "        self.name=\"Ram\"\n",
    "        self.age=\"34\"\n",
    "class B(A):\n",
    "    def info(self):\n",
    "        print(f\"Hello world I am {self.name}. I am {self.age}\")\n",
    "        \n",
    "obj=B()\n",
    "obj.info()"
   ]
  },
  {
   "cell_type": "code",
   "execution_count": 12,
   "id": "e3ec5e1d",
   "metadata": {},
   "outputs": [
    {
     "name": "stdout",
     "output_type": "stream",
     "text": [
      "Enter name=Shakti\n",
      "Enter age=21\n",
      "Hello world I am Ram. I am 34\n"
     ]
    }
   ],
   "source": [
    "class A:\n",
    "    def __init__(self,name,age):\n",
    "        self.name=\"Ram\"\n",
    "        self.age=\"34\"\n",
    "class B(A):\n",
    "    def info(self):\n",
    "        print(f\"Hello world I am {self.name}. I am {age}\")\n",
    "name=input(\"Enter name=\")        \n",
    "age=int(input(\"Enter age=\"))\n",
    "obj=B(name,age)\n",
    "obj.info()"
   ]
  },
  {
   "cell_type": "code",
   "execution_count": 14,
   "id": "d9bb963e",
   "metadata": {},
   "outputs": [
    {
     "name": "stdout",
     "output_type": "stream",
     "text": [
      "Enter name=Shakti\n",
      "Enter age=21\n",
      "Hello world I am Shakti. I am 21\n"
     ]
    }
   ],
   "source": [
    "class A:\n",
    "    def __init__(self,age):\n",
    "        self.age=age\n",
    "class B(A):\n",
    "    def __init__(self,name,age):\n",
    "        self.name=name\n",
    "        A.__init__(self,age)\n",
    "        \n",
    "    def info(self):\n",
    "        print(f\"Hello world I am {self.name}. I am {age}\")\n",
    "name=input(\"Enter name=\")        \n",
    "age=int(input(\"Enter age=\"))\n",
    "obj=B(name,age)\n",
    "obj.info()"
   ]
  },
  {
   "cell_type": "code",
   "execution_count": null,
   "id": "f446393f",
   "metadata": {},
   "outputs": [],
   "source": []
  }
 ],
 "metadata": {
  "kernelspec": {
   "display_name": "Python 3 (ipykernel)",
   "language": "python",
   "name": "python3"
  },
  "language_info": {
   "codemirror_mode": {
    "name": "ipython",
    "version": 3
   },
   "file_extension": ".py",
   "mimetype": "text/x-python",
   "name": "python",
   "nbconvert_exporter": "python",
   "pygments_lexer": "ipython3",
   "version": "3.9.12"
  }
 },
 "nbformat": 4,
 "nbformat_minor": 5
}
