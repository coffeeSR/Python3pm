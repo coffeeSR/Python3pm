{
 "cells": [
  {
   "cell_type": "code",
   "execution_count": 1,
   "id": "c7839c4c",
   "metadata": {},
   "outputs": [
    {
     "data": {
      "text/plain": [
       "[{'name': 'Shakti', 'age': '21', 'address': 'Lalitpur'},\n",
       " {'name': 'Smile', 'age': '20', 'address': 'Butwal'},\n",
       " {'name': 'no one', 'age': '100', 'address': 'Nowhere'}]"
      ]
     },
     "execution_count": 1,
     "metadata": {},
     "output_type": "execute_result"
    }
   ],
   "source": [
    "#dict inside list\n",
    "l=[{'name':'Shakti','age':'21','address':'Lalitpur'},\n",
    "   {'name':'Smile','age':'20','address':'Butwal'},\n",
    "   {'name':'no one','age':'100','address':'Nowhere'}]\n",
    "l\n"
   ]
  },
  {
   "cell_type": "code",
   "execution_count": 2,
   "id": "d4859c3d",
   "metadata": {},
   "outputs": [
    {
     "name": "stdout",
     "output_type": "stream",
     "text": [
      "Enter n=2\n",
      "Enter name: Shakto\n",
      "Enter age: 21\n",
      "Enter address: lalitpur\n",
      "Enter name: Smile\n",
      "Enter age: 20\n",
      "Enter address: Butwal\n",
      "[{'name': 'Shakto', 'age': 21, 'add': 'lalitpur'}, {'name': 'Smile', 'age': 20, 'add': 'Butwal'}]\n"
     ]
    }
   ],
   "source": [
    "data=[]\n",
    "n=int(input(\"Enter n=\"))\n",
    "for i in range(n):\n",
    "    name=input(\"Enter name: \")\n",
    "    age=int(input(\"Enter age: \"))\n",
    "    add=input(\"Enter address: \")\n",
    "    info={'name':name, 'age':age,'add':add}\n",
    "    data.append(info)\n",
    "print(data)"
   ]
  },
  {
   "cell_type": "code",
   "execution_count": 3,
   "id": "5a3038e1",
   "metadata": {},
   "outputs": [
    {
     "data": {
      "text/plain": [
       "[{'name': 'Shakti', 'age': 21, 'add': 'Lalitpur'},\n",
       " {'name': 'Smile', 'age': 20, 'add': 'Butwal'},\n",
       " {'name': 'Who', 'age': '493', 'add': 'you'}]"
      ]
     },
     "execution_count": 3,
     "metadata": {},
     "output_type": "execute_result"
    }
   ],
   "source": [
    "data=[{'name': 'Shakti', 'age': 21, 'add': 'Lalitpur'}, \n",
    "      {'name': 'Smile', 'age': 20, 'add': 'Butwal'}]\n",
    "data.append({'name':'Who','age':'493','add':'you'})\n",
    "data"
   ]
  },
  {
   "cell_type": "code",
   "execution_count": 4,
   "id": "58e6485c",
   "metadata": {},
   "outputs": [
    {
     "name": "stdout",
     "output_type": "stream",
     "text": [
      "{'name': 'Shakti', 'age': 21, 'add': 'Lalitpur'}\n"
     ]
    }
   ],
   "source": [
    "print(data[0])"
   ]
  },
  {
   "cell_type": "code",
   "execution_count": 5,
   "id": "d29df5fa",
   "metadata": {},
   "outputs": [
    {
     "name": "stdout",
     "output_type": "stream",
     "text": [
      "Shakti\n"
     ]
    }
   ],
   "source": [
    "print(data[0]['name'])"
   ]
  },
  {
   "cell_type": "code",
   "execution_count": 7,
   "id": "1aa3d4b6",
   "metadata": {},
   "outputs": [
    {
     "data": {
      "text/plain": [
       "[{'name': 'Shakti', 'age': 21, 'add': 'Lalitpur'},\n",
       " {'name': 'Smile', 'age': 20, 'add': 'Butwal'},\n",
       " {'name': 'mf', 'age': '493', 'add': 'you'}]"
      ]
     },
     "execution_count": 7,
     "metadata": {},
     "output_type": "execute_result"
    }
   ],
   "source": [
    "data[2]['name']='mf'\n",
    "data\n"
   ]
  },
  {
   "cell_type": "code",
   "execution_count": 8,
   "id": "98dd45ba",
   "metadata": {},
   "outputs": [
    {
     "data": {
      "text/plain": [
       "[{'name': 'Shakti', 'age': 21, 'add': 'Lalitpur'},\n",
       " {'name': 'Smile', 'age': 20, 'add': 'Butwal'},\n",
       " {'age': '493', 'add': 'you'}]"
      ]
     },
     "execution_count": 8,
     "metadata": {},
     "output_type": "execute_result"
    }
   ],
   "source": [
    "del data[2]['name']\n",
    "data"
   ]
  },
  {
   "cell_type": "code",
   "execution_count": 2,
   "id": "2357a8d0",
   "metadata": {},
   "outputs": [
    {
     "data": {
      "text/plain": [
       "{1: {'name': 'Shakti', 'age': 21, 'add': 'Lalitpur'},\n",
       " 2: {'name': 'Smile', 'age': 20, 'add': 'Butwal'},\n",
       " 3: {'name': 'mf', 'age': 493, 'add': 'you'}}"
      ]
     },
     "execution_count": 2,
     "metadata": {},
     "output_type": "execute_result"
    }
   ],
   "source": [
    "#dict inside dict\n",
    "a={1:{'name': 'Shakti', 'age': 21, 'add': 'Lalitpur'},\n",
    "  2:{'name': 'Smile', 'age': 20, 'add': 'Butwal'},\n",
    "  3:{'name': 'mf', 'age': 493, 'add': 'you'}}\n",
    "a"
   ]
  },
  {
   "cell_type": "code",
   "execution_count": 10,
   "id": "1497172b",
   "metadata": {},
   "outputs": [
    {
     "ename": "SyntaxError",
     "evalue": "invalid syntax (2593672350.py, line 7)",
     "output_type": "error",
     "traceback": [
      "\u001b[1;36m  Input \u001b[1;32mIn [10]\u001b[1;36m\u001b[0m\n\u001b[1;33m    info=('name':name,'age':age,'add':add)\u001b[0m\n\u001b[1;37m                ^\u001b[0m\n\u001b[1;31mSyntaxError\u001b[0m\u001b[1;31m:\u001b[0m invalid syntax\n"
     ]
    }
   ],
   "source": [
    "d={}\n",
    "n=int(input(\"Enter n: \"))\n",
    "for i in range(1,n+1):\n",
    "    name=input(\"Enter name= \")\n",
    "    age=int(input(\"Enter age= \"))\n",
    "    add=input(\"Enter add= \")\n",
    "    info=('name':name,'age':age,'add':add)\n",
    "print(d)"
   ]
  },
  {
   "cell_type": "code",
   "execution_count": 11,
   "id": "ba4bdbc4",
   "metadata": {},
   "outputs": [
    {
     "name": "stdout",
     "output_type": "stream",
     "text": [
      "{'name': 'Shakti', 'age': 21, 'add': 'Lalitpur'}\n",
      "{'name': 'Smile', 'age': 20, 'add': 'Butwal'}\n",
      "{'name': 'mf', 'age': 493, 'add': 'you'}\n"
     ]
    }
   ],
   "source": [
    "for i in a.values():\n",
    "    print(i)"
   ]
  },
  {
   "cell_type": "code",
   "execution_count": 12,
   "id": "387f0465",
   "metadata": {},
   "outputs": [
    {
     "name": "stdout",
     "output_type": "stream",
     "text": [
      "Enter phone: 9818504363\n",
      "Enter phone: 9886413212\n",
      "Enter phone: 9898989898\n",
      "{1: {'name': 'Shakti', 'age': 21, 'add': 'Lalitpur', 'phone': 9818504363}, 2: {'name': 'Smile', 'age': 20, 'add': 'Butwal', 'phone': 9886413212}, 3: {'name': 'mf', 'age': 493, 'add': 'you', 'phone': 9898989898}}\n"
     ]
    }
   ],
   "source": [
    "for i in a.values():\n",
    "    phone=int(input(\"Enter phone: \"))\n",
    "    i['phone']=phone\n",
    "print(a)"
   ]
  },
  {
   "cell_type": "code",
   "execution_count": 15,
   "id": "38dcfe73",
   "metadata": {},
   "outputs": [
    {
     "name": "stdout",
     "output_type": "stream",
     "text": [
      "Enter NTC phone: 9843761805\n",
      "Enter NCELL phone: 9818504363\n",
      "Enter NTC phone: 9898989898\n",
      "Enter NCELL phone: 9889898989\n",
      "Enter NTC phone: 9821392831\n",
      "Enter NCELL phone: 9812312938\n",
      "{1: {'name': 'Shakti', 'age': 21, 'add': 'Lalitpur', 'phone': [9843761805, 9818504363]}, 2: {'name': 'Smile', 'age': 20, 'add': 'Butwal', 'phone': [9898989898, 9889898989]}, 3: {'name': 'mf', 'age': 493, 'add': 'you', 'phone': [9821392831, 9812312938]}}\n"
     ]
    }
   ],
   "source": [
    "for i in a.values():\n",
    "    ntc_phone=int(input(\"Enter NTC phone: \"))\n",
    "    ncell_phone=int(input(\"Enter NCELL phone: \"))\n",
    "    i['phone']=[ntc_phone,ncell_phone]\n",
    "print(a)"
   ]
  },
  {
   "cell_type": "code",
   "execution_count": 16,
   "id": "809d729f",
   "metadata": {},
   "outputs": [
    {
     "data": {
      "text/plain": [
       "{1: {'phy': {'pr': 34, 'th': 45}, 'che': {'pr': 54, 'th': 65}, 'math': 87}}"
      ]
     },
     "execution_count": 16,
     "metadata": {},
     "output_type": "execute_result"
    }
   ],
   "source": [
    "#CRUD\n",
    "a={1:{'phy':{'pr':34,'th':45},'che':{'pr':54,'th':65},'math':87}}\n",
    "a"
   ]
  },
  {
   "cell_type": "code",
   "execution_count": null,
   "id": "e70d1ebd",
   "metadata": {},
   "outputs": [],
   "source": []
  }
 ],
 "metadata": {
  "kernelspec": {
   "display_name": "Python 3 (ipykernel)",
   "language": "python",
   "name": "python3"
  },
  "language_info": {
   "codemirror_mode": {
    "name": "ipython",
    "version": 3
   },
   "file_extension": ".py",
   "mimetype": "text/x-python",
   "name": "python",
   "nbconvert_exporter": "python",
   "pygments_lexer": "ipython3",
   "version": "3.9.12"
  }
 },
 "nbformat": 4,
 "nbformat_minor": 5
}
