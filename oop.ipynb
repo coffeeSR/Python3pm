{
 "cells": [
  {
   "cell_type": "code",
   "execution_count": 1,
   "id": "694ce7b4",
   "metadata": {},
   "outputs": [
    {
     "name": "stdout",
     "output_type": "stream",
     "text": [
      "Hello world\n"
     ]
    }
   ],
   "source": [
    "class Hello:\n",
    "    print(\"Hello world\")\n",
    "obj=Hello()                 #object\n"
   ]
  },
  {
   "cell_type": "code",
   "execution_count": 5,
   "id": "0c54661e",
   "metadata": {},
   "outputs": [
    {
     "name": "stdout",
     "output_type": "stream",
     "text": [
      "Hello World\n"
     ]
    }
   ],
   "source": [
    "class Hello:                    #class\n",
    "    def hello(self):            #method\n",
    "        print(\"Hello World\")\n",
    "obj=Hello()                     #object\n",
    "obj.hello()"
   ]
  },
  {
   "cell_type": "code",
   "execution_count": 7,
   "id": "2921b9d4",
   "metadata": {},
   "outputs": [
    {
     "name": "stdout",
     "output_type": "stream",
     "text": [
      "Hello World\n"
     ]
    }
   ],
   "source": [
    "class Hello:                    #class\n",
    "    @staticmethod\n",
    "    def hello():                #method\n",
    "        print(\"Hello World\")\n",
    "obj=Hello()                     #object\n",
    "obj.hello()"
   ]
  },
  {
   "cell_type": "code",
   "execution_count": 9,
   "id": "c7436aa1",
   "metadata": {},
   "outputs": [
    {
     "name": "stdout",
     "output_type": "stream",
     "text": [
      "Enter p=10000\n",
      "Enter t=2\n",
      "Enter r=10\n",
      "2000.0\n"
     ]
    }
   ],
   "source": [
    "class Cal:\n",
    "    def cal(self,p,t,r):\n",
    "        i=p*t*r/100\n",
    "        print(i)\n",
    "p=int(input(\"Enter p=\"))\n",
    "t=float(input(\"Enter t=\"))\n",
    "r=float(input(\"Enter r=\"))\n",
    "obj=Cal()\n",
    "obj.cal(p,t,r)"
   ]
  },
  {
   "cell_type": "code",
   "execution_count": 12,
   "id": "59086f84",
   "metadata": {},
   "outputs": [
    {
     "name": "stdout",
     "output_type": "stream",
     "text": [
      "Enter l=2\n",
      "Enter b=34\n",
      "Enter h=5\n",
      "68\n",
      "340\n"
     ]
    }
   ],
   "source": [
    "class Cal:\n",
    "    def area(hi,l,b):\n",
    "        a=l*b\n",
    "        print(a)\n",
    "    def volume(self,l,b,h):\n",
    "        v=l*b*h\n",
    "        print(v)\n",
    "l=int(input(\"Enter l=\"))\n",
    "b=int(input(\"Enter b=\"))\n",
    "h=int(input(\"Enter h=\"))\n",
    "obj=Cal()\n",
    "obj.area(l,b)\n",
    "obj.volume(l,b,h)"
   ]
  },
  {
   "cell_type": "code",
   "execution_count": 19,
   "id": "6ab76f4f",
   "metadata": {},
   "outputs": [
    {
     "name": "stdout",
     "output_type": "stream",
     "text": [
      "Enter p=10000\n",
      "Enter t=5\n",
      "Enter r=10\n",
      "5000.0\n"
     ]
    }
   ],
   "source": [
    "class Cal:\n",
    "    def __init__(hi,p,t,r):\n",
    "        hi.p=p\n",
    "        hi.t=t\n",
    "        hi.r=r\n",
    "        \n",
    "    def cal(hi):\n",
    "        i=hi.p*hi.t*hi.r/100\n",
    "        print(i)\n",
    "        \n",
    "p=int(input(\"Enter p=\"))\n",
    "t=float(input(\"Enter t=\"))\n",
    "r=float(input(\"Enter r=\"))\n",
    "obj=Cal(p,t,r)\n",
    "obj.cal()"
   ]
  },
  {
   "cell_type": "code",
   "execution_count": 21,
   "id": "08b35f1b",
   "metadata": {},
   "outputs": [
    {
     "name": "stdout",
     "output_type": "stream",
     "text": [
      "Enter l=2\n",
      "Enter b=3\n",
      "Enter h=4\n",
      "6\n",
      "24\n"
     ]
    }
   ],
   "source": [
    "class Cal:\n",
    "    def __init__(self,l,b,h):\n",
    "        self.l=l\n",
    "        self.b=b\n",
    "        self.h=h\n",
    "    def area(self):\n",
    "        a=self.l*self.b\n",
    "        print(a)\n",
    "    def volume(self):\n",
    "        v=self.l*self.b*self.h\n",
    "        print(v)\n",
    "l=int(input(\"Enter l=\"))\n",
    "b=int(input(\"Enter b=\"))\n",
    "h=int(input(\"Enter h=\"))\n",
    "obj=Cal(l,b,h)\n",
    "obj.area()\n",
    "obj.volume()"
   ]
  },
  {
   "cell_type": "code",
   "execution_count": null,
   "id": "31b594ac",
   "metadata": {},
   "outputs": [],
   "source": []
  }
 ],
 "metadata": {
  "kernelspec": {
   "display_name": "Python 3 (ipykernel)",
   "language": "python",
   "name": "python3"
  },
  "language_info": {
   "codemirror_mode": {
    "name": "ipython",
    "version": 3
   },
   "file_extension": ".py",
   "mimetype": "text/x-python",
   "name": "python",
   "nbconvert_exporter": "python",
   "pygments_lexer": "ipython3",
   "version": "3.9.12"
  }
 },
 "nbformat": 4,
 "nbformat_minor": 5
}
