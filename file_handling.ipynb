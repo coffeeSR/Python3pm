{
 "cells": [
  {
   "cell_type": "code",
   "execution_count": 1,
   "id": "9863a714",
   "metadata": {},
   "outputs": [],
   "source": [
    "# file = open('<file_name>','<mode>')\n",
    "# file.close()\n",
    "\n",
    "#with open('<file_name>','<mode>') as file:\n",
    "#    <operation>"
   ]
  },
  {
   "cell_type": "code",
   "execution_count": 2,
   "id": "6beeca5f",
   "metadata": {},
   "outputs": [],
   "source": [
    "#modes\n",
    "#read -> 'r'\n",
    "#create -> 'x'\n",
    "#write -> 'w'\n",
    "#append -> 'a'"
   ]
  },
  {
   "cell_type": "code",
   "execution_count": 14,
   "id": "41dacda4",
   "metadata": {},
   "outputs": [
    {
     "name": "stdout",
     "output_type": "stream",
     "text": [
      "The file is already there.\n"
     ]
    }
   ],
   "source": [
    "try:\n",
    "    file = open('data.txt','x')\n",
    "    file.close()\n",
    "except:\n",
    "    print(\"The file is already there.\")"
   ]
  },
  {
   "cell_type": "code",
   "execution_count": 15,
   "id": "6a44bc38",
   "metadata": {},
   "outputs": [
    {
     "name": "stdout",
     "output_type": "stream",
     "text": [
      "1.HELLO WORLD\n",
      "2.HELLO WORLD\n",
      "3.HELLO WORLD\n",
      "4.HELLO WORLD\n",
      "5.HELLO WORLD\n",
      "6.HELLO WORLD\n",
      "7.HELLO WORLD <class 'str'>\n"
     ]
    }
   ],
   "source": [
    "file=open('data.txt','r')\n",
    "x=file.read()\n",
    "print(x,type(x))\n",
    "file.close()"
   ]
  },
  {
   "cell_type": "code",
   "execution_count": 16,
   "id": "e7f6843a",
   "metadata": {},
   "outputs": [
    {
     "name": "stdout",
     "output_type": "stream",
     "text": [
      "3.HELLO WORLD\n"
     ]
    }
   ],
   "source": [
    "y=x.split('\\n')\n",
    "print(y[2])"
   ]
  },
  {
   "cell_type": "code",
   "execution_count": 17,
   "id": "00beac5a",
   "metadata": {},
   "outputs": [
    {
     "name": "stdout",
     "output_type": "stream",
     "text": [
      "['1.HELLO WORLD', '2.HELLO WORLD', '3.HELLO WORLD', '4.HELLO WORLD', '5.HELLO WORLD', '6.HELLO WORLD', '7.HELLO WORLD']\n"
     ]
    }
   ],
   "source": [
    "y=x.split('\\n')\n",
    "print(y)"
   ]
  },
  {
   "cell_type": "code",
   "execution_count": 21,
   "id": "8ec1f6db",
   "metadata": {},
   "outputs": [],
   "source": [
    "file=open('data.txt','w')\n",
    "x=file.write('HELLO WORLD I AM PYTHON ')\n",
    "file.close()"
   ]
  },
  {
   "cell_type": "code",
   "execution_count": 22,
   "id": "51e3f11c",
   "metadata": {},
   "outputs": [],
   "source": [
    "file=open('data.txt','a')\n",
    "x=file.write('HELLO WORLD I AM PYTHON ')\n",
    "file.close()"
   ]
  },
  {
   "cell_type": "code",
   "execution_count": 2,
   "id": "77abef53",
   "metadata": {},
   "outputs": [
    {
     "name": "stdout",
     "output_type": "stream",
     "text": [
      "Enter n=2\n",
      "Enter name=jhdsfa\n",
      "Enter price=1223\n",
      "Enter quantity=23\n",
      "Enter name=klhadf\n",
      "Enter price=232\n",
      "Enter quantity=22\n"
     ]
    }
   ],
   "source": [
    "bill=\"\"\n",
    "n=int(input(\"Enter n=\"))\n",
    "for i in range(n):\n",
    "    name=input(\"Enter name=\")\n",
    "    price=int(input(\"Enter price=\"))\n",
    "    quantity=int(input(\"Enter quantity=\"))\n",
    "    total=price*quantity\n",
    "    bill=bill+f'{name},{price},{quantity},{total}\\n'\n",
    "    \n",
    "file=open('data.csv','w')\n",
    "file.write(\"name,price,quantity,total\\n\")\n",
    "file.write(bill)\n",
    "file.close()"
   ]
  },
  {
   "cell_type": "code",
   "execution_count": 6,
   "id": "9e7e6da9",
   "metadata": {},
   "outputs": [
    {
     "name": "stdout",
     "output_type": "stream",
     "text": [
      "name,price,quantity,total\n",
      "jhdsfa,1223,23,28129\n",
      "klhadf,232,22,5104\n",
      "\n"
     ]
    }
   ],
   "source": [
    "file=open('data.csv','r')\n",
    "x=file.read()\n",
    "print(x)\n",
    "file.close()"
   ]
  },
  {
   "cell_type": "code",
   "execution_count": 4,
   "id": "3dfd7c59",
   "metadata": {},
   "outputs": [
    {
     "name": "stdout",
     "output_type": "stream",
     "text": [
      "['name,price,quantity,total', 'jhdsfa,1223,23,28129', 'klhadf,232,22,5104']\n"
     ]
    }
   ],
   "source": [
    "y=x.split('\\n')[0:-1]\n",
    "print(y)"
   ]
  },
  {
   "cell_type": "code",
   "execution_count": 7,
   "id": "e57205b9",
   "metadata": {},
   "outputs": [
    {
     "name": "stdout",
     "output_type": "stream",
     "text": [
      "[['name', 'price', 'quantity', 'total'], ['jhdsfa', '1223', '23', '28129'], ['klhadf', '232', '22', '5104']]\n"
     ]
    }
   ],
   "source": [
    "bills=[]\n",
    "for i in y:\n",
    "    bills.append(i.split(','))\n",
    "print(bills)"
   ]
  },
  {
   "cell_type": "code",
   "execution_count": 17,
   "id": "9299dca5",
   "metadata": {},
   "outputs": [
    {
     "name": "stdout",
     "output_type": "stream",
     "text": [
      "Total= 28129\n",
      "Total= 5104\n",
      "Grand total= 33233\n"
     ]
    }
   ],
   "source": [
    "all_total=0\n",
    "for i in range(1,len(bills)):\n",
    "    z=int(bills[i][3])\n",
    "    print(\"Total=\",z)\n",
    "    all_total=all_total+z\n",
    "print(\"Grand total=\",all_total)"
   ]
  },
  {
   "cell_type": "code",
   "execution_count": null,
   "id": "35aa7ca2",
   "metadata": {},
   "outputs": [],
   "source": []
  }
 ],
 "metadata": {
  "kernelspec": {
   "display_name": "Python 3 (ipykernel)",
   "language": "python",
   "name": "python3"
  },
  "language_info": {
   "codemirror_mode": {
    "name": "ipython",
    "version": 3
   },
   "file_extension": ".py",
   "mimetype": "text/x-python",
   "name": "python",
   "nbconvert_exporter": "python",
   "pygments_lexer": "ipython3",
   "version": "3.9.12"
  }
 },
 "nbformat": 4,
 "nbformat_minor": 5
}
