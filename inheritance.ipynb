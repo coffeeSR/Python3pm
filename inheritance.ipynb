{
 "cells": [
  {
   "cell_type": "code",
   "execution_count": 7,
   "id": "ab1db6eb",
   "metadata": {},
   "outputs": [],
   "source": [
    "#Inheritance"
   ]
  },
  {
   "cell_type": "code",
   "execution_count": 3,
   "id": "53af3e6b",
   "metadata": {},
   "outputs": [],
   "source": [
    "# class A:\n",
    "#     pass\n",
    "# class B(A):\n",
    "#     pass"
   ]
  },
  {
   "cell_type": "code",
   "execution_count": 8,
   "id": "e1751766",
   "metadata": {},
   "outputs": [
    {
     "name": "stdout",
     "output_type": "stream",
     "text": [
      "Hello world I am Ram. I am 34\n"
     ]
    }
   ],
   "source": [
    "class A:\n",
    "    def __init__(self):\n",
    "        self.name=\"Ram\"\n",
    "        self.age=\"34\"\n",
    "class B(A):\n",
    "    def info(self):\n",
    "        print(f\"Hello world I am {self.name}. I am {self.age}\")\n",
    "        \n",
    "obj=B()\n",
    "obj.info()"
   ]
  },
  {
   "cell_type": "code",
   "execution_count": 12,
   "id": "7279a2c0",
   "metadata": {},
   "outputs": [
    {
     "name": "stdout",
     "output_type": "stream",
     "text": [
      "Enter name=Shakti\n",
      "Enter age=21\n",
      "Hello world I am Ram. I am 34\n"
     ]
    }
   ],
   "source": [
    "class A:\n",
    "    def __init__(self,name,age):\n",
    "        self.name=\"Ram\"\n",
    "        self.age=\"34\"\n",
    "class B(A):\n",
    "    def info(self):\n",
    "        print(f\"Hello world I am {self.name}. I am {age}\")\n",
    "name=input(\"Enter name=\")        \n",
    "age=int(input(\"Enter age=\"))\n",
    "obj=B(name,age)\n",
    "obj.info()"
   ]
  },
  {
   "cell_type": "code",
   "execution_count": 14,
   "id": "8d02f2e9",
   "metadata": {},
   "outputs": [
    {
     "name": "stdout",
     "output_type": "stream",
     "text": [
      "Enter name=Shakti\n",
      "Enter age=21\n",
      "Hello world I am Shakti. I am 21\n"
     ]
    }
   ],
   "source": [
    "class A:\n",
    "    def __init__(self,age):\n",
    "        self.age=age\n",
    "class B(A):\n",
    "    def __init__(self,name,age):\n",
    "        self.name=name\n",
    "        A.__init__(self,age)\n",
    "        \n",
    "    def info(self):\n",
    "        print(f\"Hello world I am {self.name}. I am {age}\")\n",
    "name=input(\"Enter name=\")        \n",
    "age=int(input(\"Enter age=\"))\n",
    "obj=B(name,age)\n",
    "obj.info()"
   ]
  },
  {
   "cell_type": "code",
   "execution_count": 15,
   "id": "59472e40",
   "metadata": {},
   "outputs": [],
   "source": [
    "#multi level inheritance\n",
    "class A:\n",
    "    pass\n",
    "class B(A):\n",
    "    pass\n",
    "class C(B):\n",
    "    pass\n",
    "\n",
    "obj=C()\n"
   ]
  },
  {
   "cell_type": "code",
   "execution_count": 16,
   "id": "e278cc17",
   "metadata": {},
   "outputs": [],
   "source": [
    "#multiple inheritance\n",
    "class A:\n",
    "    pass\n",
    "class B:\n",
    "    pass\n",
    "class C(A,B):\n",
    "    pass\n",
    "\n",
    "obj=C()\n"
   ]
  },
  {
   "cell_type": "code",
   "execution_count": 29,
   "id": "b53d20db",
   "metadata": {},
   "outputs": [
    {
     "name": "stdout",
     "output_type": "stream",
     "text": [
      "Enter name=Shakti\n",
      "Enter age=21\n",
      "Enter add=Lalitpur\n",
      "Hello world I am Shakti. I am 21, I am from Lalitpur.\n"
     ]
    }
   ],
   "source": [
    "class A:\n",
    "    def __init__(self,add):\n",
    "        self.add=add\n",
    "        \n",
    "class B(A):\n",
    "    def __init__(self,age,add):\n",
    "        self.age=age\n",
    "        A.__init__(self,add)\n",
    "        \n",
    "class C(B):\n",
    "    def __init__(self,name,age,add):\n",
    "        self.name=name\n",
    "        B.__init__(self,age,add)\n",
    "        \n",
    "    def info(self):\n",
    "        print(f\"Hello world I am {self.name}. I am {age}, I am from {self.add}.\")\n",
    "        \n",
    "name=input(\"Enter name=\")        \n",
    "age=int(input(\"Enter age=\"))\n",
    "add=input(\"Enter add=\")\n",
    "\n",
    "obj=C(name,age,add)\n",
    "obj.info()"
   ]
  },
  {
   "cell_type": "code",
   "execution_count": 34,
   "id": "ef3583a6",
   "metadata": {},
   "outputs": [
    {
     "name": "stdout",
     "output_type": "stream",
     "text": [
      "Enter name=Shakti\n",
      "Enter age=21\n",
      "Enter add=Lalitpur\n",
      "Hello world I am Shakti. I am 21, I am from Lalitpur.\n"
     ]
    }
   ],
   "source": [
    "class A:\n",
    "    def __init__(self,add):\n",
    "        self.add=add\n",
    "        \n",
    "class B:\n",
    "    def __init__(self,age):\n",
    "        self.age=age   \n",
    "        \n",
    "class C(A,B):\n",
    "    def __init__(self,name,age,add):\n",
    "        self.name=name\n",
    "        B.__init__(self,age)\n",
    "        A.__init__(self,add)\n",
    "        \n",
    "        \n",
    "    def info(self):\n",
    "        print(f\"Hello world I am {self.name}. I am {age}, I am from {self.add}.\")\n",
    "        \n",
    "name=input(\"Enter name=\")        \n",
    "age=int(input(\"Enter age=\"))\n",
    "add=input(\"Enter add=\")\n",
    "\n",
    "obj=C(name,age,add)\n",
    "obj.info()"
   ]
  },
  {
   "cell_type": "code",
   "execution_count": 1,
   "id": "f4a8e12d",
   "metadata": {},
   "outputs": [
    {
     "name": "stdout",
     "output_type": "stream",
     "text": [
      "Shakti\n",
      "32\n",
      "Lalitpur\n"
     ]
    }
   ],
   "source": [
    "#public members\n",
    "class Info:\n",
    "    def __init__(self):\n",
    "        self.name=\"Shakti\"\n",
    "        self.age=32\n",
    "        self.add=\"Lalitpur\"\n",
    "obj=Info()\n",
    "print(obj.name)\n",
    "print(obj.age)\n",
    "print(obj.add)"
   ]
  },
  {
   "cell_type": "code",
   "execution_count": 4,
   "id": "1c5cd8ef",
   "metadata": {
    "scrolled": true
   },
   "outputs": [
    {
     "name": "stdout",
     "output_type": "stream",
     "text": [
      "Shakti\n",
      "32\n",
      "Lalitpur\n"
     ]
    }
   ],
   "source": [
    "class Info:\n",
    "    def __init__(self):\n",
    "        self._name=\"Shakti\"\n",
    "        self._age=32\n",
    "        self._add=\"Lalitpur\"\n",
    "obj=Info()\n",
    "print(obj._name)\n",
    "print(obj._age)\n",
    "print(obj._add)"
   ]
  },
  {
   "cell_type": "code",
   "execution_count": 6,
   "id": "328ef96e",
   "metadata": {},
   "outputs": [
    {
     "ename": "AttributeError",
     "evalue": "'Info' object has no attribute '_name'",
     "output_type": "error",
     "traceback": [
      "\u001b[1;31m---------------------------------------------------------------------------\u001b[0m",
      "\u001b[1;31mAttributeError\u001b[0m                            Traceback (most recent call last)",
      "Input \u001b[1;32mIn [6]\u001b[0m, in \u001b[0;36m<cell line: 7>\u001b[1;34m()\u001b[0m\n\u001b[0;32m      5\u001b[0m         \u001b[38;5;28mself\u001b[39m\u001b[38;5;241m.\u001b[39m__add\u001b[38;5;241m=\u001b[39m\u001b[38;5;124m\"\u001b[39m\u001b[38;5;124mLalitpur\u001b[39m\u001b[38;5;124m\"\u001b[39m\n\u001b[0;32m      6\u001b[0m obj\u001b[38;5;241m=\u001b[39mInfo()\n\u001b[1;32m----> 7\u001b[0m \u001b[38;5;28mprint\u001b[39m(\u001b[43mobj\u001b[49m\u001b[38;5;241;43m.\u001b[39;49m\u001b[43m_name\u001b[49m)\n\u001b[0;32m      8\u001b[0m \u001b[38;5;28mprint\u001b[39m(obj\u001b[38;5;241m.\u001b[39m_age)\n\u001b[0;32m      9\u001b[0m \u001b[38;5;28mprint\u001b[39m(obj\u001b[38;5;241m.\u001b[39m_add)\n",
      "\u001b[1;31mAttributeError\u001b[0m: 'Info' object has no attribute '_name'"
     ]
    }
   ],
   "source": [
    "class Info:\n",
    "    def __init__(self):\n",
    "        self.__name=\"Shakti\"\n",
    "        self.__age=32\n",
    "        self.__add=\"Lalitpur\"\n",
    "obj=Info()\n",
    "print(obj.__name)\n",
    "print(obj.__age)\n",
    "print(obj.__add)\n"
   ]
  },
  {
   "cell_type": "code",
   "execution_count": 10,
   "id": "6e440635",
   "metadata": {},
   "outputs": [
    {
     "name": "stdout",
     "output_type": "stream",
     "text": [
      "Enter name=Shakti\n",
      "Enter age=21\n",
      "Hello world I am Ram.\n",
      "I am 34\n"
     ]
    }
   ],
   "source": [
    "class A:\n",
    "    def __init__(self,name,age):\n",
    "        self._name=\"Ram\"\n",
    "        self.__age=\"34\"\n",
    "    def a(self):\n",
    "        print(f\"I am {self.__age}\")\n",
    "class B(A):\n",
    "    def info(self):\n",
    "        print(f\"Hello world I am {self._name}.\")\n",
    "name=input(\"Enter name=\")        \n",
    "age=int(input(\"Enter age=\"))\n",
    "obj=B(name,age)\n",
    "obj.info()\n",
    "obj.a()"
   ]
  },
  {
   "cell_type": "code",
   "execution_count": 2,
   "id": "ac7754b8",
   "metadata": {
    "scrolled": false
   },
   "outputs": [
    {
     "ename": "SyntaxError",
     "evalue": "EOF while scanning triple-quoted string literal (2106624026.py, line 28)",
     "output_type": "error",
     "traceback": [
      "\u001b[1;36m  Input \u001b[1;32mIn [2]\u001b[1;36m\u001b[0m\n\u001b[1;33m    obj.info()\u001b[0m\n\u001b[1;37m              \n^\u001b[0m\n\u001b[1;31mSyntaxError\u001b[0m\u001b[1;31m:\u001b[0m EOF while scanning triple-quoted string literal\n"
     ]
    }
   ],
   "source": []
  },
  {
   "cell_type": "code",
   "execution_count": 6,
   "id": "9553672f",
   "metadata": {},
   "outputs": [
    {
     "name": "stdout",
     "output_type": "stream",
     "text": [
      "Enter name=Shakti\n",
      "Enter age=21\n",
      "Enter add=Lalitpur\n",
      "Enter phone=9818504363\n",
      "Hello world I am Shakti. I am 21, I am from Lalitpur. My contact no. is 9818504363\n"
     ]
    }
   ],
   "source": [
    "class A:\n",
    "    def __init__(self,add,phone):\n",
    "        self._add=add\n",
    "        self.__phone=phone\n",
    "    def my_phone(self):\n",
    "        return self.__phone\n",
    "        \n",
    "class B:\n",
    "    def __init__(self,age):\n",
    "        self._age=age\n",
    "        \n",
    "class C(A,B):\n",
    "    def __init__(self,name,age,add,phone):\n",
    "        self.__name=name\n",
    "        B.__init__(self,age)\n",
    "        A.__init__(self,add,phone)\n",
    "        \n",
    "        \n",
    "    def info(self):\n",
    "        print(f'''Hello world I am {self.__name}. I am {self._age}, I am from {self._add}. My contact no. is {super().my_phone()}''')\n",
    "        \n",
    "name=input(\"Enter name=\")        \n",
    "age=int(input(\"Enter age=\"))\n",
    "add=input(\"Enter add=\")\n",
    "phone=int(input(\"Enter phone=\"))\n",
    "\n",
    "obj=C(name,age,add,phone)\n",
    "obj.info()"
   ]
  },
  {
   "cell_type": "code",
   "execution_count": null,
   "id": "bab4ccb1",
   "metadata": {},
   "outputs": [],
   "source": []
  }
 ],
 "metadata": {
  "kernelspec": {
   "display_name": "Python 3 (ipykernel)",
   "language": "python",
   "name": "python3"
  },
  "language_info": {
   "codemirror_mode": {
    "name": "ipython",
    "version": 3
   },
   "file_extension": ".py",
   "mimetype": "text/x-python",
   "name": "python",
   "nbconvert_exporter": "python",
   "pygments_lexer": "ipython3",
   "version": "3.9.12"
  }
 },
 "nbformat": 4,
 "nbformat_minor": 5
}
