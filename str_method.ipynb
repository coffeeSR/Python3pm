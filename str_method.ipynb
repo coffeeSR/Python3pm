{
 "cells": [
  {
   "cell_type": "code",
   "execution_count": 1,
   "id": "2412e684",
   "metadata": {},
   "outputs": [],
   "source": [
    "#str method"
   ]
  },
  {
   "cell_type": "code",
   "execution_count": 5,
   "id": "0a483988",
   "metadata": {},
   "outputs": [
    {
     "name": "stdout",
     "output_type": "stream",
     "text": [
      "Ram\n",
      "Ram\n"
     ]
    }
   ],
   "source": [
    "class Info:\n",
    "    def __init__(self,name,age):\n",
    "        self.name=name\n",
    "        self.age=age        \n",
    "    def __str__(self):\n",
    "        return self.name\n",
    "    \n",
    "obj=Info(\"Ram\",45)\n",
    "print(obj)\n",
    "print(obj.__str__())"
   ]
  },
  {
   "cell_type": "code",
   "execution_count": 8,
   "id": "7b0ed712",
   "metadata": {},
   "outputs": [
    {
     "name": "stdout",
     "output_type": "stream",
     "text": [
      "1 5\n"
     ]
    }
   ],
   "source": [
    "class Point:\n",
    "    def __init__(self,x=0,y=0):\n",
    "        self.x=x\n",
    "        self.y=y\n",
    "        \n",
    "    def __str__(self):\n",
    "        return f\"{self.x} {self.y}\"\n",
    "    \n",
    "    def __add__(self,other):\n",
    "        x=self.x+other.x\n",
    "        y=self.y+other.y   \n",
    "        return Point(x,y)\n",
    "        \n",
    "p1=Point(2,3)\n",
    "p2=Point(-1,2)\n",
    "print(p1+p2)"
   ]
  },
  {
   "cell_type": "code",
   "execution_count": 15,
   "id": "3fa5386a",
   "metadata": {},
   "outputs": [
    {
     "name": "stdout",
     "output_type": "stream",
     "text": [
      "This is init method 2000\n",
      "This is init method 1500\n",
      "This is init method 1000\n",
      "This is add method 3500\n",
      "This is init method 3500\n",
      "This is add method 4500\n",
      "This is init method 4500\n",
      "This is str method 4500\n",
      "4500\n"
     ]
    }
   ],
   "source": [
    "class Point:\n",
    "    def __init__(self,x=0):\n",
    "        self.x=x\n",
    "        print(\"This is init method\",self.x)\n",
    "        \n",
    "    def __str__(self):\n",
    "        print(\"This is str method\",self.x)        \n",
    "        return f\"{self.x}\"\n",
    "    \n",
    "    def __add__(self,other):\n",
    "        x=self.x+other.x\n",
    "        print(\"This is add method\",x)\n",
    "        return Point(x)\n",
    "        \n",
    "p1=Point(2000)\n",
    "p2=Point(1500)\n",
    "p3=Point(1000)\n",
    "print(p1+p2+p3)"
   ]
  },
  {
   "cell_type": "code",
   "execution_count": 16,
   "id": "3e1e59be",
   "metadata": {},
   "outputs": [
    {
     "name": "stdout",
     "output_type": "stream",
     "text": [
      "Parrot can fly\n",
      "Penguin cannot fly\n"
     ]
    }
   ],
   "source": [
    "#polymerphysm\n",
    "class Parrot:\n",
    "    def fly(self):\n",
    "        print(\"Parrot can fly\")\n",
    "    def swim(self):\n",
    "        print(\"Parrot cannot swim\")\n",
    "\n",
    "class Penguin:\n",
    "    def fly(self):\n",
    "        print(\"Penguin cannot fly\")\n",
    "    def swim(self):\n",
    "        print(\"Penguin can swim\")\n",
    "\n",
    "#common interface\n",
    "def flying_test(bird):\n",
    "    bird.fly()\n",
    "    \n",
    "#instantiate objects\n",
    "blu=Parrot()\n",
    "peggy=Penguin()\n",
    "#passing the object\n",
    "flying_test(blu)\n",
    "flying_test(peggy)"
   ]
  },
  {
   "cell_type": "code",
   "execution_count": null,
   "id": "e510f4f9",
   "metadata": {},
   "outputs": [],
   "source": []
  }
 ],
 "metadata": {
  "kernelspec": {
   "display_name": "Python 3 (ipykernel)",
   "language": "python",
   "name": "python3"
  },
  "language_info": {
   "codemirror_mode": {
    "name": "ipython",
    "version": 3
   },
   "file_extension": ".py",
   "mimetype": "text/x-python",
   "name": "python",
   "nbconvert_exporter": "python",
   "pygments_lexer": "ipython3",
   "version": "3.9.12"
  }
 },
 "nbformat": 4,
 "nbformat_minor": 5
}
